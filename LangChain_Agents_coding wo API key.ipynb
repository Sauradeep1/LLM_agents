{
 "cells": [
  {
   "cell_type": "markdown",
   "id": "c77c9812",
   "metadata": {},
   "source": [
    "# Import"
   ]
  },
  {
   "cell_type": "code",
   "execution_count": 4,
   "id": "d87a6cc4",
   "metadata": {},
   "outputs": [
    {
     "name": "stdout",
     "output_type": "stream",
     "text": [
      "Requirement already satisfied: wikipedia in c:\\users\\saura\\anaconda3\\envs\\office\\lib\\site-packages (1.4.0)\n",
      "Requirement already satisfied: beautifulsoup4 in c:\\users\\saura\\anaconda3\\envs\\office\\lib\\site-packages (from wikipedia) (4.12.3)\n",
      "Requirement already satisfied: requests<3.0.0,>=2.0.0 in c:\\users\\saura\\anaconda3\\envs\\office\\lib\\site-packages (from wikipedia) (2.32.3)\n",
      "Requirement already satisfied: charset-normalizer<4,>=2 in c:\\users\\saura\\anaconda3\\envs\\office\\lib\\site-packages (from requests<3.0.0,>=2.0.0->wikipedia) (3.4.0)\n",
      "Requirement already satisfied: idna<4,>=2.5 in c:\\users\\saura\\anaconda3\\envs\\office\\lib\\site-packages (from requests<3.0.0,>=2.0.0->wikipedia) (3.10)\n",
      "Requirement already satisfied: urllib3<3,>=1.21.1 in c:\\users\\saura\\anaconda3\\envs\\office\\lib\\site-packages (from requests<3.0.0,>=2.0.0->wikipedia) (1.26.20)\n",
      "Requirement already satisfied: certifi>=2017.4.17 in c:\\users\\saura\\anaconda3\\envs\\office\\lib\\site-packages (from requests<3.0.0,>=2.0.0->wikipedia) (2024.8.30)\n",
      "Requirement already satisfied: soupsieve>1.2 in c:\\users\\saura\\anaconda3\\envs\\office\\lib\\site-packages (from beautifulsoup4->wikipedia) (2.6)\n"
     ]
    }
   ],
   "source": [
    "!pip install wikipedia"
   ]
  },
  {
   "cell_type": "code",
   "execution_count": 18,
   "id": "2eee8cd2-6143-4b53-b511-b1754c6214fc",
   "metadata": {},
   "outputs": [
    {
     "name": "stdout",
     "output_type": "stream",
     "text": [
      "Collecting numexpr\n",
      "  Downloading numexpr-2.10.2-cp311-cp311-win_amd64.whl.metadata (8.3 kB)\n",
      "Requirement already satisfied: numpy>=1.23.0 in c:\\users\\saura\\anaconda3\\envs\\office\\lib\\site-packages (from numexpr) (1.26.4)\n",
      "Downloading numexpr-2.10.2-cp311-cp311-win_amd64.whl (144 kB)\n",
      "Installing collected packages: numexpr\n",
      "Successfully installed numexpr-2.10.2\n"
     ]
    }
   ],
   "source": [
    "!pip install numexpr"
   ]
  },
  {
   "cell_type": "code",
   "execution_count": 5,
   "id": "7821a0f1",
   "metadata": {},
   "outputs": [],
   "source": [
    "#!pip install langchain-community"
   ]
  },
  {
   "cell_type": "code",
   "execution_count": 6,
   "id": "a4444975-1c71-48d8-83b0-86116a99ebf4",
   "metadata": {},
   "outputs": [],
   "source": [
    "from langchain.agents import initialize_agent, AgentType, load_tools, tool\n",
    "#from langchain.chat_models import ChatOpenAI\n",
    "from langchain_openai import ChatOpenAI\n",
    "from datetime import datetime\n",
    "\n",
    "import getpass\n",
    "import os\n",
    "\n",
    "\"\"\"\n",
    "if not os.environ.get(\"OPENAI_API_KEY\"):\n",
    "    os.environ[\"OPENAI_API_KEY\"] = getpass.getpass(\"Enter your OpenAI API key: \")\n",
    "\"\"\"\n",
    "\n",
    "llm = ChatOpenAI()"
   ]
  },
  {
   "cell_type": "markdown",
   "id": "b634af2d-9c82-4063-b787-019bc69276aa",
   "metadata": {},
   "source": [
    "# Tool Definition"
   ]
  },
  {
   "cell_type": "code",
   "execution_count": 14,
   "id": "e4740649-b7cd-4323-8232-a4285c7fea84",
   "metadata": {},
   "outputs": [],
   "source": [
    "@tool\n",
    "def return_current_time(a) -> datetime :\n",
    "    \"\"\"\"\n",
    "    Use this function to return the current time ( in the hour, minute, second format)\n",
    "    input param : None\n",
    "    return : current time in the format '%H:%M:%S'\n",
    "    \"\"\"\n",
    "    # storing the current time in the variable\n",
    "    c = datetime.now()\n",
    "    \n",
    "    # Displays Time\n",
    "    current_time = c.strftime('%H:%M:%S')\n",
    "    return current_time\n",
    "\n",
    "@tool\n",
    "def triple(num: float) -> float:\n",
    "    \"\"\"\n",
    "    :param num: a number to triple\n",
    "    :return: the number tripled ->  multiplied by 3\n",
    "    \"\"\"\n",
    "    return 3 * float(num)\n",
    "\n",
    "\n",
    "@tool\n",
    "def return_error(scenario: int):\n",
    "    \"\"\"\n",
    "    something about the funciton\n",
    "    \"\"\"\n",
    "    if scenario ==1:\n",
    "        return \"getting 400 error\"\n",
    "    else:\n",
    "        return \"getting 500 error\""
   ]
  },
  {
   "cell_type": "markdown",
   "id": "01b821d8-7182-43e0-8543-42349b91f36a",
   "metadata": {},
   "source": [
    "# Assigining Tools to the Agent"
   ]
  },
  {
   "cell_type": "code",
   "execution_count": 11,
   "id": "4f589b4d-daea-4ebe-9223-822bdc3b65fc",
   "metadata": {},
   "outputs": [
    {
     "name": "stderr",
     "output_type": "stream",
     "text": [
      "C:\\Users\\saura\\AppData\\Local\\Temp\\ipykernel_16924\\2815301781.py:4: LangChainDeprecationWarning: The function `initialize_agent` was deprecated in LangChain 0.1.0 and will be removed in 1.0. Use :meth:`~Use new agent constructor methods like create_react_agent, create_json_agent, create_structured_chat_agent, etc.` instead.\n",
      "  agent = initialize_agent(\n"
     ]
    }
   ],
   "source": [
    "predefined_tools = load_tools(['wikipedia'], llm=llm)\n",
    "\n",
    "tools= [return_current_time,triple ] + predefined_tools \n",
    "agent = initialize_agent(\n",
    "    tools=tools, \n",
    "    llm=llm, \n",
    "    agent=AgentType.ZERO_SHOT_REACT_DESCRIPTION, \n",
    "    verbose=True,\n",
    "    return_intermediate_steps=True,\n",
    ")"
   ]
  },
  {
   "cell_type": "code",
   "execution_count": null,
   "id": "9b92b94f-7123-4dd7-b778-08d14665442e",
   "metadata": {},
   "outputs": [],
   "source": [
    "# ImportError: LLMMathChain requires the numexpr package. Please install it with `pip install numexpr`.\n"
   ]
  },
  {
   "cell_type": "markdown",
   "id": "fd1360ca-4c35-4c71-8b71-e0d27064d61c",
   "metadata": {},
   "source": [
    "## With Wiki, Return Current time & triple"
   ]
  },
  {
   "cell_type": "code",
   "execution_count": 12,
   "id": "e780de90-d37e-49f1-a7c5-23035c31c468",
   "metadata": {},
   "outputs": [
    {
     "name": "stdout",
     "output_type": "stream",
     "text": [
      "\n",
      "\n",
      "\u001b[1m> Entering new AgentExecutor chain...\u001b[0m\n",
      "\u001b[32;1m\u001b[1;3mI should first get the current time and then multiply the hour by 3.\n",
      "Action: return_current_time\n",
      "Action Input: None\u001b[0m\n",
      "Observation: \u001b[36;1m\u001b[1;3m16:54:37\u001b[0m\n",
      "Thought:\u001b[32;1m\u001b[1;3mNow I need to extract the hour from the current time and triple it.\n",
      "Action: triple\n",
      "Action Input: 16\u001b[0m\n",
      "Observation: \u001b[33;1m\u001b[1;3m48.0\u001b[0m\n",
      "Thought:\u001b[32;1m\u001b[1;3mI now know the final answer\n",
      "Final Answer: 48.0\u001b[0m\n",
      "\n",
      "\u001b[1m> Finished chain.\u001b[0m\n"
     ]
    },
    {
     "data": {
      "text/plain": [
       "{'input': {'what is the current time? Tell me the hour and multiply by 3 '},\n",
       " 'output': '48.0',\n",
       " 'intermediate_steps': [(AgentAction(tool='return_current_time', tool_input='None', log='I should first get the current time and then multiply the hour by 3.\\nAction: return_current_time\\nAction Input: None'),\n",
       "   '16:54:37'),\n",
       "  (AgentAction(tool='triple', tool_input='16', log='Now I need to extract the hour from the current time and triple it.\\nAction: triple\\nAction Input: 16'),\n",
       "   48.0)]}"
      ]
     },
     "execution_count": 12,
     "metadata": {},
     "output_type": "execute_result"
    }
   ],
   "source": [
    "agent.invoke( {\"what is the current time? Tell me the hour and multiply by 3 \"})"
   ]
  },
  {
   "cell_type": "code",
   "execution_count": 13,
   "id": "ec559ab7-7d55-4dfd-a65a-1ac6b7bddb44",
   "metadata": {},
   "outputs": [
    {
     "name": "stdout",
     "output_type": "stream",
     "text": [
      "\n",
      "\n",
      "\u001b[1m> Entering new AgentExecutor chain...\u001b[0m\n",
      "\u001b[32;1m\u001b[1;3mI need to find out the name of Aizen's Shikai and calculate the square of 1+2+3*2.\n",
      "Action: wikipedia\n",
      "Action Input: \"Aizen's Shikai\"\u001b[0m\n",
      "Observation: \u001b[38;5;200m\u001b[1;3mPage: Sōsuke Aizen\n",
      "Summary: Sōsuke Aizen (藍染 惣右介, Aizen Sōsuke) is a fictional character in the Japanese manga series Bleach created by Tite Kubo. He is the main antagonist of the first part of the story of Bleach. Serving as captain of the Fifth Division of Soul Reapers when he is introduced, Aizen later betrays the Soul Society in search of immense power to overthrow and defeat the Soul King, before Ichigo Kurosaki and Kisuke Urahara defeat him. His former lieutenant is Momo Hinamori.\n",
      "\n",
      "Page: Bleach season 14\n",
      "Summary: The fourteenth season of the Bleach anime series is based on Tite Kubo's Bleach manga series. It is known as the Arrancar: Downfall arc (破面・滅亡篇, Arankaru Metsubō Hen), is directed by Noriyuki Abe, and produced by TV Tokyo, Dentsu and Studio Pierrot. The season concludes the fight between the Soul Reapers and Sōsuke Aizen's arrancar army as the former defends Karakura Town from the latter's invasion, while Ichigo Kurosaki and his group fight the arrancars in Hueco Mundo to rescue Orihime Inoue.\n",
      "The season aired from April 2010 to 2011. Aniplex collected it in eleven DVD volumes between February 23 and December 14, 2011. The English adaptation of the Bleach anime is licensed by Viz Media, and the season aired on Adult Swim's Toonami programming block from August 2012 to September 2013.\n",
      "The episodes uses six pieces of theme music: two opening themes and four closing themes. The first opening theme, \"Change\" by Miwa is used for episodes 266 to 291, while the second opening theme, \"Ranbu no Melody\" (乱舞のメロディ, Ranbu no Merodi, \"Melody of the Wild Dance\") by Sid is used from episode 292 to 316. The first ending theme, \"Stay Beautiful\" by Diggy-Mo is used for episodes 266 to 278, the second ending theme, \"echoes\" by Universe is used from episode 279 to 291, the third ending theme, \"Last Moment\" by Spyair is used from episode 292 to 303, and the fourth ending theme \"Song For...\" by Rookiez Is Punk'd is used from episode 304 to 316.\n",
      "\n",
      "Page: List of Soul Reapers in Bleach\n",
      "Summary: This is a list of Soul Reapers (死神, Shinigami, literally, \"death gods\") featured in the manga and anime series Bleach, created by Tite Kubo. Soul Reapers are a fictional race of spirits who govern the flow of souls between the human world and the afterlife realm called the Soul Society.\n",
      "The series tells of how Ichigo Kurosaki becomes a substitute Soul Reaper in Karakura Town in place of Rukia Kuchiki. He assumes her duties to protect souls and put them to peaceful rest, as well as to fight against dangerous, lost souls unable to find rest, called Hollows.\n",
      "As the series progresses, Rukia is captured by the Soul Society's Soul Reaper military for giving her powers to Ichigo and sentenced to death. Ichigo and his friends journey to the Soul Society to save her and are forced to fight against many of the Court Guard Squads. Sōsuke Aizen, Gin Ichimaru, and Kaname Tōsen—the captains of squads Five, Three, and Nine respectively—eventually defect from the Soul Society at the time of Rukia's rescue, effectively interrupting Ichigo's battles, and enact a plan to gain greater power with the Arrancar. Aizen is brought into focus as the story's main antagonist. However, in the series' final arc, the real antagonist is revealed to be Yhwach, the son of the Soul King and father of the Quincy.\u001b[0m\n",
      "Thought:\u001b[32;1m\u001b[1;3mI need to calculate the square of 1+2+3*2.\n",
      "Action: triple\n",
      "Action Input: 1+2+3*2\u001b[0m"
     ]
    },
    {
     "ename": "ValidationError",
     "evalue": "1 validation error for triple\nnum\n  Input should be a valid number, unable to parse string as a number [type=float_parsing, input_value='1+2+3*2', input_type=str]\n    For further information visit https://errors.pydantic.dev/2.10/v/float_parsing",
     "output_type": "error",
     "traceback": [
      "\u001b[1;31m---------------------------------------------------------------------------\u001b[0m",
      "\u001b[1;31mValidationError\u001b[0m                           Traceback (most recent call last)",
      "Cell \u001b[1;32mIn[13], line 1\u001b[0m\n\u001b[1;32m----> 1\u001b[0m \u001b[43magent\u001b[49m\u001b[38;5;241;43m.\u001b[39;49m\u001b[43minvoke\u001b[49m\u001b[43m(\u001b[49m\u001b[43m \u001b[49m\u001b[43m{\u001b[49m\u001b[38;5;124;43m\"\u001b[39;49m\u001b[38;5;124;43mwhat is the name of Aizen\u001b[39;49m\u001b[38;5;124;43m'\u001b[39;49m\u001b[38;5;124;43ms Shikai ? Tell me the name and also the square of 1+2+3*2 \u001b[39;49m\u001b[38;5;124;43m\"\u001b[39;49m\u001b[43m}\u001b[49m\u001b[43m)\u001b[49m\n",
      "File \u001b[1;32m~\\Anaconda3\\envs\\office\\Lib\\site-packages\\langchain\\chains\\base.py:170\u001b[0m, in \u001b[0;36mChain.invoke\u001b[1;34m(self, input, config, **kwargs)\u001b[0m\n\u001b[0;32m    168\u001b[0m \u001b[38;5;28;01mexcept\u001b[39;00m \u001b[38;5;167;01mBaseException\u001b[39;00m \u001b[38;5;28;01mas\u001b[39;00m e:\n\u001b[0;32m    169\u001b[0m     run_manager\u001b[38;5;241m.\u001b[39mon_chain_error(e)\n\u001b[1;32m--> 170\u001b[0m     \u001b[38;5;28;01mraise\u001b[39;00m e\n\u001b[0;32m    171\u001b[0m run_manager\u001b[38;5;241m.\u001b[39mon_chain_end(outputs)\n\u001b[0;32m    173\u001b[0m \u001b[38;5;28;01mif\u001b[39;00m include_run_info:\n",
      "File \u001b[1;32m~\\Anaconda3\\envs\\office\\Lib\\site-packages\\langchain\\chains\\base.py:160\u001b[0m, in \u001b[0;36mChain.invoke\u001b[1;34m(self, input, config, **kwargs)\u001b[0m\n\u001b[0;32m    157\u001b[0m \u001b[38;5;28;01mtry\u001b[39;00m:\n\u001b[0;32m    158\u001b[0m     \u001b[38;5;28mself\u001b[39m\u001b[38;5;241m.\u001b[39m_validate_inputs(inputs)\n\u001b[0;32m    159\u001b[0m     outputs \u001b[38;5;241m=\u001b[39m (\n\u001b[1;32m--> 160\u001b[0m         \u001b[38;5;28;43mself\u001b[39;49m\u001b[38;5;241;43m.\u001b[39;49m\u001b[43m_call\u001b[49m\u001b[43m(\u001b[49m\u001b[43minputs\u001b[49m\u001b[43m,\u001b[49m\u001b[43m \u001b[49m\u001b[43mrun_manager\u001b[49m\u001b[38;5;241;43m=\u001b[39;49m\u001b[43mrun_manager\u001b[49m\u001b[43m)\u001b[49m\n\u001b[0;32m    161\u001b[0m         \u001b[38;5;28;01mif\u001b[39;00m new_arg_supported\n\u001b[0;32m    162\u001b[0m         \u001b[38;5;28;01melse\u001b[39;00m \u001b[38;5;28mself\u001b[39m\u001b[38;5;241m.\u001b[39m_call(inputs)\n\u001b[0;32m    163\u001b[0m     )\n\u001b[0;32m    165\u001b[0m     final_outputs: Dict[\u001b[38;5;28mstr\u001b[39m, Any] \u001b[38;5;241m=\u001b[39m \u001b[38;5;28mself\u001b[39m\u001b[38;5;241m.\u001b[39mprep_outputs(\n\u001b[0;32m    166\u001b[0m         inputs, outputs, return_only_outputs\n\u001b[0;32m    167\u001b[0m     )\n\u001b[0;32m    168\u001b[0m \u001b[38;5;28;01mexcept\u001b[39;00m \u001b[38;5;167;01mBaseException\u001b[39;00m \u001b[38;5;28;01mas\u001b[39;00m e:\n",
      "File \u001b[1;32m~\\Anaconda3\\envs\\office\\Lib\\site-packages\\langchain\\agents\\agent.py:1629\u001b[0m, in \u001b[0;36mAgentExecutor._call\u001b[1;34m(self, inputs, run_manager)\u001b[0m\n\u001b[0;32m   1627\u001b[0m \u001b[38;5;66;03m# We now enter the agent loop (until it returns something).\u001b[39;00m\n\u001b[0;32m   1628\u001b[0m \u001b[38;5;28;01mwhile\u001b[39;00m \u001b[38;5;28mself\u001b[39m\u001b[38;5;241m.\u001b[39m_should_continue(iterations, time_elapsed):\n\u001b[1;32m-> 1629\u001b[0m     next_step_output \u001b[38;5;241m=\u001b[39m \u001b[38;5;28;43mself\u001b[39;49m\u001b[38;5;241;43m.\u001b[39;49m\u001b[43m_take_next_step\u001b[49m\u001b[43m(\u001b[49m\n\u001b[0;32m   1630\u001b[0m \u001b[43m        \u001b[49m\u001b[43mname_to_tool_map\u001b[49m\u001b[43m,\u001b[49m\n\u001b[0;32m   1631\u001b[0m \u001b[43m        \u001b[49m\u001b[43mcolor_mapping\u001b[49m\u001b[43m,\u001b[49m\n\u001b[0;32m   1632\u001b[0m \u001b[43m        \u001b[49m\u001b[43minputs\u001b[49m\u001b[43m,\u001b[49m\n\u001b[0;32m   1633\u001b[0m \u001b[43m        \u001b[49m\u001b[43mintermediate_steps\u001b[49m\u001b[43m,\u001b[49m\n\u001b[0;32m   1634\u001b[0m \u001b[43m        \u001b[49m\u001b[43mrun_manager\u001b[49m\u001b[38;5;241;43m=\u001b[39;49m\u001b[43mrun_manager\u001b[49m\u001b[43m,\u001b[49m\n\u001b[0;32m   1635\u001b[0m \u001b[43m    \u001b[49m\u001b[43m)\u001b[49m\n\u001b[0;32m   1636\u001b[0m     \u001b[38;5;28;01mif\u001b[39;00m \u001b[38;5;28misinstance\u001b[39m(next_step_output, AgentFinish):\n\u001b[0;32m   1637\u001b[0m         \u001b[38;5;28;01mreturn\u001b[39;00m \u001b[38;5;28mself\u001b[39m\u001b[38;5;241m.\u001b[39m_return(\n\u001b[0;32m   1638\u001b[0m             next_step_output, intermediate_steps, run_manager\u001b[38;5;241m=\u001b[39mrun_manager\n\u001b[0;32m   1639\u001b[0m         )\n",
      "File \u001b[1;32m~\\Anaconda3\\envs\\office\\Lib\\site-packages\\langchain\\agents\\agent.py:1335\u001b[0m, in \u001b[0;36mAgentExecutor._take_next_step\u001b[1;34m(self, name_to_tool_map, color_mapping, inputs, intermediate_steps, run_manager)\u001b[0m\n\u001b[0;32m   1326\u001b[0m \u001b[38;5;28;01mdef\u001b[39;00m \u001b[38;5;21m_take_next_step\u001b[39m(\n\u001b[0;32m   1327\u001b[0m     \u001b[38;5;28mself\u001b[39m,\n\u001b[0;32m   1328\u001b[0m     name_to_tool_map: Dict[\u001b[38;5;28mstr\u001b[39m, BaseTool],\n\u001b[1;32m   (...)\u001b[0m\n\u001b[0;32m   1332\u001b[0m     run_manager: Optional[CallbackManagerForChainRun] \u001b[38;5;241m=\u001b[39m \u001b[38;5;28;01mNone\u001b[39;00m,\n\u001b[0;32m   1333\u001b[0m ) \u001b[38;5;241m-\u001b[39m\u001b[38;5;241m>\u001b[39m Union[AgentFinish, List[Tuple[AgentAction, \u001b[38;5;28mstr\u001b[39m]]]:\n\u001b[0;32m   1334\u001b[0m     \u001b[38;5;28;01mreturn\u001b[39;00m \u001b[38;5;28mself\u001b[39m\u001b[38;5;241m.\u001b[39m_consume_next_step(\n\u001b[1;32m-> 1335\u001b[0m         \u001b[43m[\u001b[49m\n\u001b[0;32m   1336\u001b[0m \u001b[43m            \u001b[49m\u001b[43ma\u001b[49m\n\u001b[0;32m   1337\u001b[0m \u001b[43m            \u001b[49m\u001b[38;5;28;43;01mfor\u001b[39;49;00m\u001b[43m \u001b[49m\u001b[43ma\u001b[49m\u001b[43m \u001b[49m\u001b[38;5;129;43;01min\u001b[39;49;00m\u001b[43m \u001b[49m\u001b[38;5;28;43mself\u001b[39;49m\u001b[38;5;241;43m.\u001b[39;49m\u001b[43m_iter_next_step\u001b[49m\u001b[43m(\u001b[49m\n\u001b[0;32m   1338\u001b[0m \u001b[43m                \u001b[49m\u001b[43mname_to_tool_map\u001b[49m\u001b[43m,\u001b[49m\n\u001b[0;32m   1339\u001b[0m \u001b[43m                \u001b[49m\u001b[43mcolor_mapping\u001b[49m\u001b[43m,\u001b[49m\n\u001b[0;32m   1340\u001b[0m \u001b[43m                \u001b[49m\u001b[43minputs\u001b[49m\u001b[43m,\u001b[49m\n\u001b[0;32m   1341\u001b[0m \u001b[43m                \u001b[49m\u001b[43mintermediate_steps\u001b[49m\u001b[43m,\u001b[49m\n\u001b[0;32m   1342\u001b[0m \u001b[43m                \u001b[49m\u001b[43mrun_manager\u001b[49m\u001b[43m,\u001b[49m\n\u001b[0;32m   1343\u001b[0m \u001b[43m            \u001b[49m\u001b[43m)\u001b[49m\n\u001b[0;32m   1344\u001b[0m \u001b[43m        \u001b[49m\u001b[43m]\u001b[49m\n\u001b[0;32m   1345\u001b[0m     )\n",
      "File \u001b[1;32m~\\Anaconda3\\envs\\office\\Lib\\site-packages\\langchain\\agents\\agent.py:1335\u001b[0m, in \u001b[0;36m<listcomp>\u001b[1;34m(.0)\u001b[0m\n\u001b[0;32m   1326\u001b[0m \u001b[38;5;28;01mdef\u001b[39;00m \u001b[38;5;21m_take_next_step\u001b[39m(\n\u001b[0;32m   1327\u001b[0m     \u001b[38;5;28mself\u001b[39m,\n\u001b[0;32m   1328\u001b[0m     name_to_tool_map: Dict[\u001b[38;5;28mstr\u001b[39m, BaseTool],\n\u001b[1;32m   (...)\u001b[0m\n\u001b[0;32m   1332\u001b[0m     run_manager: Optional[CallbackManagerForChainRun] \u001b[38;5;241m=\u001b[39m \u001b[38;5;28;01mNone\u001b[39;00m,\n\u001b[0;32m   1333\u001b[0m ) \u001b[38;5;241m-\u001b[39m\u001b[38;5;241m>\u001b[39m Union[AgentFinish, List[Tuple[AgentAction, \u001b[38;5;28mstr\u001b[39m]]]:\n\u001b[0;32m   1334\u001b[0m     \u001b[38;5;28;01mreturn\u001b[39;00m \u001b[38;5;28mself\u001b[39m\u001b[38;5;241m.\u001b[39m_consume_next_step(\n\u001b[1;32m-> 1335\u001b[0m         \u001b[43m[\u001b[49m\n\u001b[0;32m   1336\u001b[0m \u001b[43m            \u001b[49m\u001b[43ma\u001b[49m\n\u001b[0;32m   1337\u001b[0m \u001b[43m            \u001b[49m\u001b[38;5;28;43;01mfor\u001b[39;49;00m\u001b[43m \u001b[49m\u001b[43ma\u001b[49m\u001b[43m \u001b[49m\u001b[38;5;129;43;01min\u001b[39;49;00m\u001b[43m \u001b[49m\u001b[38;5;28;43mself\u001b[39;49m\u001b[38;5;241;43m.\u001b[39;49m\u001b[43m_iter_next_step\u001b[49m\u001b[43m(\u001b[49m\n\u001b[0;32m   1338\u001b[0m \u001b[43m                \u001b[49m\u001b[43mname_to_tool_map\u001b[49m\u001b[43m,\u001b[49m\n\u001b[0;32m   1339\u001b[0m \u001b[43m                \u001b[49m\u001b[43mcolor_mapping\u001b[49m\u001b[43m,\u001b[49m\n\u001b[0;32m   1340\u001b[0m \u001b[43m                \u001b[49m\u001b[43minputs\u001b[49m\u001b[43m,\u001b[49m\n\u001b[0;32m   1341\u001b[0m \u001b[43m                \u001b[49m\u001b[43mintermediate_steps\u001b[49m\u001b[43m,\u001b[49m\n\u001b[0;32m   1342\u001b[0m \u001b[43m                \u001b[49m\u001b[43mrun_manager\u001b[49m\u001b[43m,\u001b[49m\n\u001b[0;32m   1343\u001b[0m \u001b[43m            \u001b[49m\u001b[43m)\u001b[49m\n\u001b[0;32m   1344\u001b[0m \u001b[43m        \u001b[49m\u001b[43m]\u001b[49m\n\u001b[0;32m   1345\u001b[0m     )\n",
      "File \u001b[1;32m~\\Anaconda3\\envs\\office\\Lib\\site-packages\\langchain\\agents\\agent.py:1420\u001b[0m, in \u001b[0;36mAgentExecutor._iter_next_step\u001b[1;34m(self, name_to_tool_map, color_mapping, inputs, intermediate_steps, run_manager)\u001b[0m\n\u001b[0;32m   1418\u001b[0m     \u001b[38;5;28;01myield\u001b[39;00m agent_action\n\u001b[0;32m   1419\u001b[0m \u001b[38;5;28;01mfor\u001b[39;00m agent_action \u001b[38;5;129;01min\u001b[39;00m actions:\n\u001b[1;32m-> 1420\u001b[0m     \u001b[38;5;28;01myield\u001b[39;00m \u001b[38;5;28;43mself\u001b[39;49m\u001b[38;5;241;43m.\u001b[39;49m\u001b[43m_perform_agent_action\u001b[49m\u001b[43m(\u001b[49m\n\u001b[0;32m   1421\u001b[0m \u001b[43m        \u001b[49m\u001b[43mname_to_tool_map\u001b[49m\u001b[43m,\u001b[49m\u001b[43m \u001b[49m\u001b[43mcolor_mapping\u001b[49m\u001b[43m,\u001b[49m\u001b[43m \u001b[49m\u001b[43magent_action\u001b[49m\u001b[43m,\u001b[49m\u001b[43m \u001b[49m\u001b[43mrun_manager\u001b[49m\n\u001b[0;32m   1422\u001b[0m \u001b[43m    \u001b[49m\u001b[43m)\u001b[49m\n",
      "File \u001b[1;32m~\\Anaconda3\\envs\\office\\Lib\\site-packages\\langchain\\agents\\agent.py:1442\u001b[0m, in \u001b[0;36mAgentExecutor._perform_agent_action\u001b[1;34m(self, name_to_tool_map, color_mapping, agent_action, run_manager)\u001b[0m\n\u001b[0;32m   1440\u001b[0m         tool_run_kwargs[\u001b[38;5;124m\"\u001b[39m\u001b[38;5;124mllm_prefix\u001b[39m\u001b[38;5;124m\"\u001b[39m] \u001b[38;5;241m=\u001b[39m \u001b[38;5;124m\"\u001b[39m\u001b[38;5;124m\"\u001b[39m\n\u001b[0;32m   1441\u001b[0m     \u001b[38;5;66;03m# We then call the tool on the tool input to get an observation\u001b[39;00m\n\u001b[1;32m-> 1442\u001b[0m     observation \u001b[38;5;241m=\u001b[39m \u001b[43mtool\u001b[49m\u001b[38;5;241;43m.\u001b[39;49m\u001b[43mrun\u001b[49m\u001b[43m(\u001b[49m\n\u001b[0;32m   1443\u001b[0m \u001b[43m        \u001b[49m\u001b[43magent_action\u001b[49m\u001b[38;5;241;43m.\u001b[39;49m\u001b[43mtool_input\u001b[49m\u001b[43m,\u001b[49m\n\u001b[0;32m   1444\u001b[0m \u001b[43m        \u001b[49m\u001b[43mverbose\u001b[49m\u001b[38;5;241;43m=\u001b[39;49m\u001b[38;5;28;43mself\u001b[39;49m\u001b[38;5;241;43m.\u001b[39;49m\u001b[43mverbose\u001b[49m\u001b[43m,\u001b[49m\n\u001b[0;32m   1445\u001b[0m \u001b[43m        \u001b[49m\u001b[43mcolor\u001b[49m\u001b[38;5;241;43m=\u001b[39;49m\u001b[43mcolor\u001b[49m\u001b[43m,\u001b[49m\n\u001b[0;32m   1446\u001b[0m \u001b[43m        \u001b[49m\u001b[43mcallbacks\u001b[49m\u001b[38;5;241;43m=\u001b[39;49m\u001b[43mrun_manager\u001b[49m\u001b[38;5;241;43m.\u001b[39;49m\u001b[43mget_child\u001b[49m\u001b[43m(\u001b[49m\u001b[43m)\u001b[49m\u001b[43m \u001b[49m\u001b[38;5;28;43;01mif\u001b[39;49;00m\u001b[43m \u001b[49m\u001b[43mrun_manager\u001b[49m\u001b[43m \u001b[49m\u001b[38;5;28;43;01melse\u001b[39;49;00m\u001b[43m \u001b[49m\u001b[38;5;28;43;01mNone\u001b[39;49;00m\u001b[43m,\u001b[49m\n\u001b[0;32m   1447\u001b[0m \u001b[43m        \u001b[49m\u001b[38;5;241;43m*\u001b[39;49m\u001b[38;5;241;43m*\u001b[39;49m\u001b[43mtool_run_kwargs\u001b[49m\u001b[43m,\u001b[49m\n\u001b[0;32m   1448\u001b[0m \u001b[43m    \u001b[49m\u001b[43m)\u001b[49m\n\u001b[0;32m   1449\u001b[0m \u001b[38;5;28;01melse\u001b[39;00m:\n\u001b[0;32m   1450\u001b[0m     tool_run_kwargs \u001b[38;5;241m=\u001b[39m \u001b[38;5;28mself\u001b[39m\u001b[38;5;241m.\u001b[39m_action_agent\u001b[38;5;241m.\u001b[39mtool_run_logging_kwargs()\n",
      "File \u001b[1;32m~\\Anaconda3\\envs\\office\\Lib\\site-packages\\langchain_core\\tools\\base.py:689\u001b[0m, in \u001b[0;36mBaseTool.run\u001b[1;34m(self, tool_input, verbose, start_color, color, callbacks, tags, metadata, run_name, run_id, config, tool_call_id, **kwargs)\u001b[0m\n\u001b[0;32m    687\u001b[0m \u001b[38;5;28;01mif\u001b[39;00m error_to_raise:\n\u001b[0;32m    688\u001b[0m     run_manager\u001b[38;5;241m.\u001b[39mon_tool_error(error_to_raise)\n\u001b[1;32m--> 689\u001b[0m     \u001b[38;5;28;01mraise\u001b[39;00m error_to_raise\n\u001b[0;32m    690\u001b[0m output \u001b[38;5;241m=\u001b[39m _format_output(content, artifact, tool_call_id, \u001b[38;5;28mself\u001b[39m\u001b[38;5;241m.\u001b[39mname, status)\n\u001b[0;32m    691\u001b[0m run_manager\u001b[38;5;241m.\u001b[39mon_tool_end(output, color\u001b[38;5;241m=\u001b[39mcolor, name\u001b[38;5;241m=\u001b[39m\u001b[38;5;28mself\u001b[39m\u001b[38;5;241m.\u001b[39mname, \u001b[38;5;241m*\u001b[39m\u001b[38;5;241m*\u001b[39mkwargs)\n",
      "File \u001b[1;32m~\\Anaconda3\\envs\\office\\Lib\\site-packages\\langchain_core\\tools\\base.py:651\u001b[0m, in \u001b[0;36mBaseTool.run\u001b[1;34m(self, tool_input, verbose, start_color, color, callbacks, tags, metadata, run_name, run_id, config, tool_call_id, **kwargs)\u001b[0m\n\u001b[0;32m    649\u001b[0m context \u001b[38;5;241m=\u001b[39m copy_context()\n\u001b[0;32m    650\u001b[0m context\u001b[38;5;241m.\u001b[39mrun(_set_config_context, child_config)\n\u001b[1;32m--> 651\u001b[0m tool_args, tool_kwargs \u001b[38;5;241m=\u001b[39m \u001b[38;5;28;43mself\u001b[39;49m\u001b[38;5;241;43m.\u001b[39;49m\u001b[43m_to_args_and_kwargs\u001b[49m\u001b[43m(\u001b[49m\u001b[43mtool_input\u001b[49m\u001b[43m)\u001b[49m\n\u001b[0;32m    652\u001b[0m \u001b[38;5;28;01mif\u001b[39;00m signature(\u001b[38;5;28mself\u001b[39m\u001b[38;5;241m.\u001b[39m_run)\u001b[38;5;241m.\u001b[39mparameters\u001b[38;5;241m.\u001b[39mget(\u001b[38;5;124m\"\u001b[39m\u001b[38;5;124mrun_manager\u001b[39m\u001b[38;5;124m\"\u001b[39m):\n\u001b[0;32m    653\u001b[0m     tool_kwargs[\u001b[38;5;124m\"\u001b[39m\u001b[38;5;124mrun_manager\u001b[39m\u001b[38;5;124m\"\u001b[39m] \u001b[38;5;241m=\u001b[39m run_manager\n",
      "File \u001b[1;32m~\\Anaconda3\\envs\\office\\Lib\\site-packages\\langchain_core\\tools\\base.py:574\u001b[0m, in \u001b[0;36mBaseTool._to_args_and_kwargs\u001b[1;34m(self, tool_input)\u001b[0m\n\u001b[0;32m    573\u001b[0m \u001b[38;5;28;01mdef\u001b[39;00m \u001b[38;5;21m_to_args_and_kwargs\u001b[39m(\u001b[38;5;28mself\u001b[39m, tool_input: Union[\u001b[38;5;28mstr\u001b[39m, \u001b[38;5;28mdict\u001b[39m]) \u001b[38;5;241m-\u001b[39m\u001b[38;5;241m>\u001b[39m \u001b[38;5;28mtuple\u001b[39m[\u001b[38;5;28mtuple\u001b[39m, \u001b[38;5;28mdict\u001b[39m]:\n\u001b[1;32m--> 574\u001b[0m     tool_input \u001b[38;5;241m=\u001b[39m \u001b[38;5;28;43mself\u001b[39;49m\u001b[38;5;241;43m.\u001b[39;49m\u001b[43m_parse_input\u001b[49m\u001b[43m(\u001b[49m\u001b[43mtool_input\u001b[49m\u001b[43m)\u001b[49m\n\u001b[0;32m    575\u001b[0m     \u001b[38;5;66;03m# For backwards compatibility, if run_input is a string,\u001b[39;00m\n\u001b[0;32m    576\u001b[0m     \u001b[38;5;66;03m# pass as a positional argument.\u001b[39;00m\n\u001b[0;32m    577\u001b[0m     \u001b[38;5;28;01mif\u001b[39;00m \u001b[38;5;28misinstance\u001b[39m(tool_input, \u001b[38;5;28mstr\u001b[39m):\n",
      "File \u001b[1;32m~\\Anaconda3\\envs\\office\\Lib\\site-packages\\langchain_core\\tools\\base.py:508\u001b[0m, in \u001b[0;36mBaseTool._parse_input\u001b[1;34m(self, tool_input)\u001b[0m\n\u001b[0;32m    506\u001b[0m key_ \u001b[38;5;241m=\u001b[39m \u001b[38;5;28mnext\u001b[39m(\u001b[38;5;28miter\u001b[39m(get_fields(input_args)\u001b[38;5;241m.\u001b[39mkeys()))\n\u001b[0;32m    507\u001b[0m \u001b[38;5;28;01mif\u001b[39;00m \u001b[38;5;28mhasattr\u001b[39m(input_args, \u001b[38;5;124m\"\u001b[39m\u001b[38;5;124mmodel_validate\u001b[39m\u001b[38;5;124m\"\u001b[39m):\n\u001b[1;32m--> 508\u001b[0m     \u001b[43minput_args\u001b[49m\u001b[38;5;241;43m.\u001b[39;49m\u001b[43mmodel_validate\u001b[49m\u001b[43m(\u001b[49m\u001b[43m{\u001b[49m\u001b[43mkey_\u001b[49m\u001b[43m:\u001b[49m\u001b[43m \u001b[49m\u001b[43mtool_input\u001b[49m\u001b[43m}\u001b[49m\u001b[43m)\u001b[49m\n\u001b[0;32m    509\u001b[0m \u001b[38;5;28;01melse\u001b[39;00m:\n\u001b[0;32m    510\u001b[0m     input_args\u001b[38;5;241m.\u001b[39mparse_obj({key_: tool_input})\n",
      "File \u001b[1;32m~\\Anaconda3\\envs\\office\\Lib\\site-packages\\pydantic\\main.py:627\u001b[0m, in \u001b[0;36mBaseModel.model_validate\u001b[1;34m(cls, obj, strict, from_attributes, context)\u001b[0m\n\u001b[0;32m    625\u001b[0m \u001b[38;5;66;03m# `__tracebackhide__` tells pytest and some other tools to omit this function from tracebacks\u001b[39;00m\n\u001b[0;32m    626\u001b[0m __tracebackhide__ \u001b[38;5;241m=\u001b[39m \u001b[38;5;28;01mTrue\u001b[39;00m\n\u001b[1;32m--> 627\u001b[0m \u001b[38;5;28;01mreturn\u001b[39;00m \u001b[38;5;28;43mcls\u001b[39;49m\u001b[38;5;241;43m.\u001b[39;49m\u001b[43m__pydantic_validator__\u001b[49m\u001b[38;5;241;43m.\u001b[39;49m\u001b[43mvalidate_python\u001b[49m\u001b[43m(\u001b[49m\n\u001b[0;32m    628\u001b[0m \u001b[43m    \u001b[49m\u001b[43mobj\u001b[49m\u001b[43m,\u001b[49m\u001b[43m \u001b[49m\u001b[43mstrict\u001b[49m\u001b[38;5;241;43m=\u001b[39;49m\u001b[43mstrict\u001b[49m\u001b[43m,\u001b[49m\u001b[43m \u001b[49m\u001b[43mfrom_attributes\u001b[49m\u001b[38;5;241;43m=\u001b[39;49m\u001b[43mfrom_attributes\u001b[49m\u001b[43m,\u001b[49m\u001b[43m \u001b[49m\u001b[43mcontext\u001b[49m\u001b[38;5;241;43m=\u001b[39;49m\u001b[43mcontext\u001b[49m\n\u001b[0;32m    629\u001b[0m \u001b[43m\u001b[49m\u001b[43m)\u001b[49m\n",
      "\u001b[1;31mValidationError\u001b[0m: 1 validation error for triple\nnum\n  Input should be a valid number, unable to parse string as a number [type=float_parsing, input_value='1+2+3*2', input_type=str]\n    For further information visit https://errors.pydantic.dev/2.10/v/float_parsing"
     ]
    }
   ],
   "source": [
    "agent.invoke( {\"what is the name of Aizen's Shikai ? Tell me the name and also the square of 1+2+3*2 \"})"
   ]
  },
  {
   "cell_type": "markdown",
   "id": "72e34d71-2848-4bcc-bd33-1e262f6d7592",
   "metadata": {},
   "source": [
    "### OBSERVATION - without LLM MATH, triple has failed as there needs to be some calculation to be done before passing it to \"triple\""
   ]
  },
  {
   "cell_type": "markdown",
   "id": "2bb8cc7e-8e13-4113-b65f-34aa4f16937b",
   "metadata": {},
   "source": [
    "### Testing the Return Error problem, without LLM MATH ; with return_error"
   ]
  },
  {
   "cell_type": "code",
   "execution_count": 15,
   "id": "59b18483-c467-4d9a-b538-db24a92e74b7",
   "metadata": {},
   "outputs": [],
   "source": [
    "predefined_tools = load_tools(['wikipedia'], llm=llm)\n",
    "\n",
    "tools= [return_current_time,triple, return_error ] + predefined_tools \n",
    "agent = initialize_agent(\n",
    "    tools=tools, \n",
    "    llm=llm, \n",
    "    agent=AgentType.ZERO_SHOT_REACT_DESCRIPTION, \n",
    "    verbose=True,\n",
    "    return_intermediate_steps=True,\n",
    ")"
   ]
  },
  {
   "cell_type": "code",
   "execution_count": 16,
   "id": "e7ad27ef-e7f0-49bc-a5b6-d5ba54b694c7",
   "metadata": {},
   "outputs": [
    {
     "name": "stdout",
     "output_type": "stream",
     "text": [
      "\n",
      "\n",
      "\u001b[1m> Entering new AgentExecutor chain...\u001b[0m\n",
      "\u001b[32;1m\u001b[1;3mI need to find the error code for scenario 1 and triple it.\n",
      "Action: return_error\n",
      "Action Input: 1\u001b[0m\n",
      "Observation: \u001b[38;5;200m\u001b[1;3mgetting 500 error\u001b[0m\n",
      "Thought:\u001b[32;1m\u001b[1;3mI need to triple the error code 500.\n",
      "Action: triple\n",
      "Action Input: 500\u001b[0m\n",
      "Observation: \u001b[33;1m\u001b[1;3m1500.0\u001b[0m\n",
      "Thought:\u001b[32;1m\u001b[1;3mI now know the final answer\n",
      "Final Answer: 1500.0\u001b[0m\n",
      "\n",
      "\u001b[1m> Finished chain.\u001b[0m\n"
     ]
    },
    {
     "data": {
      "text/plain": [
       "{'input': {'I have just found out that we have a scenario 1 at our hand. Tell me the corresponding error code and triple it'},\n",
       " 'output': '1500.0',\n",
       " 'intermediate_steps': [(AgentAction(tool='return_error', tool_input='1', log='I need to find the error code for scenario 1 and triple it.\\nAction: return_error\\nAction Input: 1'),\n",
       "   'getting 500 error'),\n",
       "  (AgentAction(tool='triple', tool_input='500', log='I need to triple the error code 500.\\nAction: triple\\nAction Input: 500'),\n",
       "   1500.0)]}"
      ]
     },
     "execution_count": 16,
     "metadata": {},
     "output_type": "execute_result"
    }
   ],
   "source": [
    "agent.invoke( {\"I have just found out that we have a scenario 1 at our hand. Tell me the corresponding error code and triple it\"})"
   ]
  },
  {
   "cell_type": "markdown",
   "id": "1ec70f2e-23b0-479d-aaa4-89f59b850918",
   "metadata": {},
   "source": [
    "# TESTING The Aizen question with LLM MATH"
   ]
  },
  {
   "cell_type": "code",
   "execution_count": 19,
   "id": "0233e40d-8b5f-4c0f-9708-6ff7be9f6033",
   "metadata": {},
   "outputs": [],
   "source": [
    "# \"llm-math\"\n",
    "predefined_tools = load_tools(['wikipedia', 'llm-math'], llm=llm)\n",
    "\n",
    "tools= [return_current_time,triple, return_error ] + predefined_tools \n",
    "agent = initialize_agent(\n",
    "    tools=tools, \n",
    "    llm=llm, \n",
    "    agent=AgentType.ZERO_SHOT_REACT_DESCRIPTION, \n",
    "    verbose=True,\n",
    "    return_intermediate_steps=True,\n",
    ")"
   ]
  },
  {
   "cell_type": "code",
   "execution_count": 20,
   "id": "ec57c48d-ea66-4cbc-aa95-611f4ccad93e",
   "metadata": {},
   "outputs": [
    {
     "name": "stdout",
     "output_type": "stream",
     "text": [
      "\n",
      "\n",
      "\u001b[1m> Entering new AgentExecutor chain...\u001b[0m\n",
      "\u001b[32;1m\u001b[1;3mI need to find out the name of Aizen's Shikai and calculate the square of 1+2+3*2.\n",
      "Action: wikipedia\n",
      "Action Input: \"Aizen's Shikai\"\u001b[0m\n",
      "Observation: \u001b[36;1m\u001b[1;3mPage: Sōsuke Aizen\n",
      "Summary: Sōsuke Aizen (藍染 惣右介, Aizen Sōsuke) is a fictional character in the Japanese manga series Bleach created by Tite Kubo. He is the main antagonist of the first part of the story of Bleach. Serving as captain of the Fifth Division of Soul Reapers when he is introduced, Aizen later betrays the Soul Society in search of immense power to overthrow and defeat the Soul King, before Ichigo Kurosaki and Kisuke Urahara defeat him. His former lieutenant is Momo Hinamori.\n",
      "\n",
      "Page: Bleach season 14\n",
      "Summary: The fourteenth season of the Bleach anime series is based on Tite Kubo's Bleach manga series. It is known as the Arrancar: Downfall arc (破面・滅亡篇, Arankaru Metsubō Hen), is directed by Noriyuki Abe, and produced by TV Tokyo, Dentsu and Studio Pierrot. The season concludes the fight between the Soul Reapers and Sōsuke Aizen's arrancar army as the former defends Karakura Town from the latter's invasion, while Ichigo Kurosaki and his group fight the arrancars in Hueco Mundo to rescue Orihime Inoue.\n",
      "The season aired from April 2010 to 2011. Aniplex collected it in eleven DVD volumes between February 23 and December 14, 2011. The English adaptation of the Bleach anime is licensed by Viz Media, and the season aired on Adult Swim's Toonami programming block from August 2012 to September 2013.\n",
      "The episodes uses six pieces of theme music: two opening themes and four closing themes. The first opening theme, \"Change\" by Miwa is used for episodes 266 to 291, while the second opening theme, \"Ranbu no Melody\" (乱舞のメロディ, Ranbu no Merodi, \"Melody of the Wild Dance\") by Sid is used from episode 292 to 316. The first ending theme, \"Stay Beautiful\" by Diggy-Mo is used for episodes 266 to 278, the second ending theme, \"echoes\" by Universe is used from episode 279 to 291, the third ending theme, \"Last Moment\" by Spyair is used from episode 292 to 303, and the fourth ending theme \"Song For...\" by Rookiez Is Punk'd is used from episode 304 to 316.\n",
      "\n",
      "Page: List of Soul Reapers in Bleach\n",
      "Summary: This is a list of Soul Reapers (死神, Shinigami, literally, \"death gods\") featured in the manga and anime series Bleach, created by Tite Kubo. Soul Reapers are a fictional race of spirits who govern the flow of souls between the human world and the afterlife realm called the Soul Society.\n",
      "The series tells of how Ichigo Kurosaki becomes a substitute Soul Reaper in Karakura Town in place of Rukia Kuchiki. He assumes her duties to protect souls and put them to peaceful rest, as well as to fight against dangerous, lost souls unable to find rest, called Hollows.\n",
      "As the series progresses, Rukia is captured by the Soul Society's Soul Reaper military for giving her powers to Ichigo and sentenced to death. Ichigo and his friends journey to the Soul Society to save her and are forced to fight against many of the Court Guard Squads. Sōsuke Aizen, Gin Ichimaru, and Kaname Tōsen—the captains of squads Five, Three, and Nine respectively—eventually defect from the Soul Society at the time of Rukia's rescue, effectively interrupting Ichigo's battles, and enact a plan to gain greater power with the Arrancar. Aizen is brought into focus as the story's main antagonist. However, in the series' final arc, the real antagonist is revealed to be Yhwach, the son of the Soul King and father of the Quincy.\u001b[0m\n",
      "Thought:\u001b[32;1m\u001b[1;3mI need to calculate the square of 1+2+3*2.\n",
      "Action: Calculator\n",
      "Action Input: 1+2+3*2\u001b[0m\n",
      "Observation: \u001b[33;1m\u001b[1;3mAnswer: 9\u001b[0m\n",
      "Thought:\u001b[32;1m\u001b[1;3mI now know the final answer\n",
      "Final Answer: The name of Aizen's Shikai is not explicitly mentioned in the provided information, but the square of 1+2+3*2 is 9.\u001b[0m\n",
      "\n",
      "\u001b[1m> Finished chain.\u001b[0m\n"
     ]
    },
    {
     "data": {
      "text/plain": [
       "{'input': {\"what is the name of Aizen's Shikai ? Tell me the name and also the square of 1+2+3*2 \"},\n",
       " 'output': \"The name of Aizen's Shikai is not explicitly mentioned in the provided information, but the square of 1+2+3*2 is 9.\",\n",
       " 'intermediate_steps': [(AgentAction(tool='wikipedia', tool_input=\"Aizen's Shikai\", log='I need to find out the name of Aizen\\'s Shikai and calculate the square of 1+2+3*2.\\nAction: wikipedia\\nAction Input: \"Aizen\\'s Shikai\"'),\n",
       "   'Page: Sōsuke Aizen\\nSummary: Sōsuke Aizen (藍染 惣右介, Aizen Sōsuke) is a fictional character in the Japanese manga series Bleach created by Tite Kubo. He is the main antagonist of the first part of the story of Bleach. Serving as captain of the Fifth Division of Soul Reapers when he is introduced, Aizen later betrays the Soul Society in search of immense power to overthrow and defeat the Soul King, before Ichigo Kurosaki and Kisuke Urahara defeat him. His former lieutenant is Momo Hinamori.\\n\\nPage: Bleach season 14\\nSummary: The fourteenth season of the Bleach anime series is based on Tite Kubo\\'s Bleach manga series. It is known as the Arrancar: Downfall arc (破面・滅亡篇, Arankaru Metsubō Hen), is directed by Noriyuki Abe, and produced by TV Tokyo, Dentsu and Studio Pierrot. The season concludes the fight between the Soul Reapers and Sōsuke Aizen\\'s arrancar army as the former defends Karakura Town from the latter\\'s invasion, while Ichigo Kurosaki and his group fight the arrancars in Hueco Mundo to rescue Orihime Inoue.\\nThe season aired from April 2010 to 2011. Aniplex collected it in eleven DVD volumes between February 23 and December 14, 2011. The English adaptation of the Bleach anime is licensed by Viz Media, and the season aired on Adult Swim\\'s Toonami programming block from August 2012 to September 2013.\\nThe episodes uses six pieces of theme music: two opening themes and four closing themes. The first opening theme, \"Change\" by Miwa is used for episodes 266 to 291, while the second opening theme, \"Ranbu no Melody\" (乱舞のメロディ, Ranbu no Merodi, \"Melody of the Wild Dance\") by Sid is used from episode 292 to 316. The first ending theme, \"Stay Beautiful\" by Diggy-Mo is used for episodes 266 to 278, the second ending theme, \"echoes\" by Universe is used from episode 279 to 291, the third ending theme, \"Last Moment\" by Spyair is used from episode 292 to 303, and the fourth ending theme \"Song For...\" by Rookiez Is Punk\\'d is used from episode 304 to 316.\\n\\nPage: List of Soul Reapers in Bleach\\nSummary: This is a list of Soul Reapers (死神, Shinigami, literally, \"death gods\") featured in the manga and anime series Bleach, created by Tite Kubo. Soul Reapers are a fictional race of spirits who govern the flow of souls between the human world and the afterlife realm called the Soul Society.\\nThe series tells of how Ichigo Kurosaki becomes a substitute Soul Reaper in Karakura Town in place of Rukia Kuchiki. He assumes her duties to protect souls and put them to peaceful rest, as well as to fight against dangerous, lost souls unable to find rest, called Hollows.\\nAs the series progresses, Rukia is captured by the Soul Society\\'s Soul Reaper military for giving her powers to Ichigo and sentenced to death. Ichigo and his friends journey to the Soul Society to save her and are forced to fight against many of the Court Guard Squads. Sōsuke Aizen, Gin Ichimaru, and Kaname Tōsen—the captains of squads Five, Three, and Nine respectively—eventually defect from the Soul Society at the time of Rukia\\'s rescue, effectively interrupting Ichigo\\'s battles, and enact a plan to gain greater power with the Arrancar. Aizen is brought into focus as the story\\'s main antagonist. However, in the series\\' final arc, the real antagonist is revealed to be Yhwach, the son of the Soul King and father of the Quincy.'),\n",
       "  (AgentAction(tool='Calculator', tool_input='1+2+3*2', log='I need to calculate the square of 1+2+3*2.\\nAction: Calculator\\nAction Input: 1+2+3*2'),\n",
       "   'Answer: 9')]}"
      ]
     },
     "execution_count": 20,
     "metadata": {},
     "output_type": "execute_result"
    }
   ],
   "source": [
    "agent.invoke( {\"what is the name of Aizen's Shikai ? Tell me the name and also the square of 1+2+3*2 \"})"
   ]
  },
  {
   "cell_type": "markdown",
   "id": "7635b2d6-4a7e-45c6-8f8f-4ee422c01093",
   "metadata": {},
   "source": [
    "### Observation -- It calculated the expression but didn't square it"
   ]
  },
  {
   "cell_type": "code",
   "execution_count": 21,
   "id": "4daacca8-5b6c-4692-bdae-987c46b11c0c",
   "metadata": {},
   "outputs": [
    {
     "name": "stdout",
     "output_type": "stream",
     "text": [
      "\n",
      "\n",
      "\u001b[1m> Entering new AgentExecutor chain...\u001b[0m\n",
      "\u001b[32;1m\u001b[1;3mWe need to find out the name of Aizen's Shikai and calculate the square of the expression 1+2+3*2.\n",
      "Action: wikipedia\n",
      "Action Input: \"Aizen's Shikai\"\u001b[0m\n",
      "Observation: \u001b[36;1m\u001b[1;3mPage: Sōsuke Aizen\n",
      "Summary: Sōsuke Aizen (藍染 惣右介, Aizen Sōsuke) is a fictional character in the Japanese manga series Bleach created by Tite Kubo. He is the main antagonist of the first part of the story of Bleach. Serving as captain of the Fifth Division of Soul Reapers when he is introduced, Aizen later betrays the Soul Society in search of immense power to overthrow and defeat the Soul King, before Ichigo Kurosaki and Kisuke Urahara defeat him. His former lieutenant is Momo Hinamori.\n",
      "\n",
      "Page: Bleach season 14\n",
      "Summary: The fourteenth season of the Bleach anime series is based on Tite Kubo's Bleach manga series. It is known as the Arrancar: Downfall arc (破面・滅亡篇, Arankaru Metsubō Hen), is directed by Noriyuki Abe, and produced by TV Tokyo, Dentsu and Studio Pierrot. The season concludes the fight between the Soul Reapers and Sōsuke Aizen's arrancar army as the former defends Karakura Town from the latter's invasion, while Ichigo Kurosaki and his group fight the arrancars in Hueco Mundo to rescue Orihime Inoue.\n",
      "The season aired from April 2010 to 2011. Aniplex collected it in eleven DVD volumes between February 23 and December 14, 2011. The English adaptation of the Bleach anime is licensed by Viz Media, and the season aired on Adult Swim's Toonami programming block from August 2012 to September 2013.\n",
      "The episodes uses six pieces of theme music: two opening themes and four closing themes. The first opening theme, \"Change\" by Miwa is used for episodes 266 to 291, while the second opening theme, \"Ranbu no Melody\" (乱舞のメロディ, Ranbu no Merodi, \"Melody of the Wild Dance\") by Sid is used from episode 292 to 316. The first ending theme, \"Stay Beautiful\" by Diggy-Mo is used for episodes 266 to 278, the second ending theme, \"echoes\" by Universe is used from episode 279 to 291, the third ending theme, \"Last Moment\" by Spyair is used from episode 292 to 303, and the fourth ending theme \"Song For...\" by Rookiez Is Punk'd is used from episode 304 to 316.\n",
      "\n",
      "Page: List of Soul Reapers in Bleach\n",
      "Summary: This is a list of Soul Reapers (死神, Shinigami, literally, \"death gods\") featured in the manga and anime series Bleach, created by Tite Kubo. Soul Reapers are a fictional race of spirits who govern the flow of souls between the human world and the afterlife realm called the Soul Society.\n",
      "The series tells of how Ichigo Kurosaki becomes a substitute Soul Reaper in Karakura Town in place of Rukia Kuchiki. He assumes her duties to protect souls and put them to peaceful rest, as well as to fight against dangerous, lost souls unable to find rest, called Hollows.\n",
      "As the series progresses, Rukia is captured by the Soul Society's Soul Reaper military for giving her powers to Ichigo and sentenced to death. Ichigo and his friends journey to the Soul Society to save her and are forced to fight against many of the Court Guard Squads. Sōsuke Aizen, Gin Ichimaru, and Kaname Tōsen—the captains of squads Five, Three, and Nine respectively—eventually defect from the Soul Society at the time of Rukia's rescue, effectively interrupting Ichigo's battles, and enact a plan to gain greater power with the Arrancar. Aizen is brought into focus as the story's main antagonist. However, in the series' final arc, the real antagonist is revealed to be Yhwach, the son of the Soul King and father of the Quincy.\u001b[0m\n",
      "Thought:\u001b[32;1m\u001b[1;3mWe need to try another search query to find the name of Aizen's Shikai.\n",
      "Action: wikipedia\n",
      "Action Input: \"Sōsuke Aizen's Zanpakutō\"\u001b[0m\n",
      "Observation: \u001b[36;1m\u001b[1;3mPage: Sōsuke Aizen\n",
      "Summary: Sōsuke Aizen (藍染 惣右介, Aizen Sōsuke) is a fictional character in the Japanese manga series Bleach created by Tite Kubo. He is the main antagonist of the first part of the story of Bleach. Serving as captain of the Fifth Division of Soul Reapers when he is introduced, Aizen later betrays the Soul Society in search of immense power to overthrow and defeat the Soul King, before Ichigo Kurosaki and Kisuke Urahara defeat him. His former lieutenant is Momo Hinamori.\n",
      "\n",
      "Page: List of Hollows in Bleach\n",
      "Summary: In the fictional Bleach manga/anime universe, a Hollow (虚（ホロウ）, Horō) is a type of monstrous lost soul who can harm both ghosts and humans. Many of the series' antagonists are hollows. Some hollows possess the characteristics called Arrancars (破面（アランカル）, Arankaru, from Spanish arrancar \"to tear off,\" kanji translates as \"broken mask\") that are similar to those of a Soul Reaper (a death-related entity). One of the series' main storylines has Sōsuke Aizen (the primary antagonist for the majority of the series) and his arrancar (particularly the ten strongest Espadas) as the force opposing the protagonists.\n",
      "The creator of the series, Tite Kubo, used many Spanish motifs for the series' hollow-related elements. The fictional creatures have been praised by reviewers for the early hollows' strong emotional ties to their victims and the \"interesting\" concept of the arrancar. The visual appearance of the characters has also been commented on.\n",
      "\n",
      "Page: List of Soul Reapers in Bleach\n",
      "Summary: This is a list of Soul Reapers (死神, Shinigami, literally, \"death gods\") featured in the manga and anime series Bleach, created by Tite Kubo. Soul Reapers are a fictional race of spirits who govern the flow of souls between the human world and the afterlife realm called the Soul Society.\n",
      "The series tells of how Ichigo Kurosaki becomes a substitute Soul Reaper in Karakura Town in place of Rukia Kuchiki. He assumes her duties to protect souls and put them to peaceful rest, as well as to fight against dangerous, lost souls unable to find rest, called Hollows.\n",
      "As the series progresses, Rukia is captured by the Soul Society's Soul Reaper military for giving her powers to Ichigo and sentenced to death. Ichigo and his friends journey to the Soul Society to save her and are forced to fight against many of the Court Guard Squads. Sōsuke Aizen, Gin Ichimaru, and Kaname Tōsen—the captains of squads Five, Three, and Nine respectively—eventually defect from the Soul Society at the time of Rukia's rescue, effectively interrupting Ichigo's battles, and enact a plan to gain greater power with the Arrancar. Aizen is brought into focus as the story's main antagonist. However, in the series' final arc, the real antagonist is revealed to be Yhwach, the son of the Soul King and father of the Quincy.\u001b[0m\n",
      "Thought:\u001b[32;1m\u001b[1;3mWe need to look for the name of Aizen's Shikai in a different way.\n",
      "Action: wikipedia\n",
      "Action Input: \"Kyōka Suigetsu\"\u001b[0m\n",
      "Observation: \u001b[36;1m\u001b[1;3mPage: Sōsuke Aizen\n",
      "Summary: Sōsuke Aizen (藍染 惣右介, Aizen Sōsuke) is a fictional character in the Japanese manga series Bleach created by Tite Kubo. He is the main antagonist of the first part of the story of Bleach. Serving as captain of the Fifth Division of Soul Reapers when he is introduced, Aizen later betrays the Soul Society in search of immense power to overthrow and defeat the Soul King, before Ichigo Kurosaki and Kisuke Urahara defeat him. His former lieutenant is Momo Hinamori.\n",
      "\n",
      "Page: Kiryū (band)\n",
      "Summary: Kiryū (己龍) is a Japanese visual kei metal band founded in 2007 with the concept of \"Japanese terror\" and \"painful nostalgia\". Formed by vocalist Mahiro Kurosaki, guitarists Takemasa Kujō and Mitsuki Sakai, bassist Hiyori Isshiki and drummer Junji Tokai, each member is represented by a color. They have been part of the independent label B.P Records since 2009.\n",
      "Many of their releases have reached high positions on the Oricon Indies chart, and they have also performed at venues such as Nippon Budokan and Tokyo Dome City Hall. They were ranked thirteenth in JRock News top 15 visual kei bands and artists of 2020 and received an honorable mention in the Most Influential Jrockers of 2017.\n",
      "Takemasa Kujō stopped featuring in the band's public appearances at the end of 2021 and one year later Mahiro Kurosaki also paused his activities. Consequently, the band entered an indefinite hiatus in the end of 2023.\n",
      "\n",
      "Page: Tokyo Singing\n",
      "Summary: Tokyo Singing (東京シンギング, Tōkyō Shingingu) is the fifth studio album by Japanese band Wagakki Band. It was released on October 14, 2020 through Universal Sigma in six editions: a two-CD release with an instrumental disc, streaming, a first edition release with 144-page photo book, and three first edition releases with optional DVD or Blu-ray discs. In addition, a fan club exclusive \"Shin Yaeryū-ban\" (真・⼋重流盤) edition was released, featuring Mini Brokker figures of the eight members and a Blu-ray copy of the \"WagakkiBand Japan Tour 2019 React -Shinshō- Final\" concert at Yokosuka Arts Theater. The album features \"Sakura Rising\", a collaboration with Amy Lee of Evanescence.\n",
      "The album peaked at No. 5 on Oricon's albums chart.\u001b[0m\n",
      "Thought:\u001b[32;1m\u001b[1;3mWe need to calculate the square of 1+2+3*2.\n",
      "Action: Calculator\n",
      "Action Input: 1+2+3*2\u001b[0m\n",
      "Observation: \u001b[33;1m\u001b[1;3mAnswer: 9\u001b[0m\n",
      "Thought:\u001b[32;1m\u001b[1;3mWe now have the name of Aizen's Shikai, which is Kyōka Suigetsu, and the result of the calculation 1+2+3*2, which is 9.\n",
      "Final Answer: The name of Aizen's Shikai is Kyōka Suigetsu and the square of 1+2+3*2 is 9.\u001b[0m\n",
      "\n",
      "\u001b[1m> Finished chain.\u001b[0m\n"
     ]
    },
    {
     "data": {
      "text/plain": [
       "{'input': {\"what is the name of Aizen's Shikai ? Tell me the name and also the square of 1+2+3*2 \"},\n",
       " 'output': \"The name of Aizen's Shikai is Kyōka Suigetsu and the square of 1+2+3*2 is 9.\",\n",
       " 'intermediate_steps': [(AgentAction(tool='wikipedia', tool_input=\"Aizen's Shikai\", log='We need to find out the name of Aizen\\'s Shikai and calculate the square of the expression 1+2+3*2.\\nAction: wikipedia\\nAction Input: \"Aizen\\'s Shikai\"'),\n",
       "   'Page: Sōsuke Aizen\\nSummary: Sōsuke Aizen (藍染 惣右介, Aizen Sōsuke) is a fictional character in the Japanese manga series Bleach created by Tite Kubo. He is the main antagonist of the first part of the story of Bleach. Serving as captain of the Fifth Division of Soul Reapers when he is introduced, Aizen later betrays the Soul Society in search of immense power to overthrow and defeat the Soul King, before Ichigo Kurosaki and Kisuke Urahara defeat him. His former lieutenant is Momo Hinamori.\\n\\nPage: Bleach season 14\\nSummary: The fourteenth season of the Bleach anime series is based on Tite Kubo\\'s Bleach manga series. It is known as the Arrancar: Downfall arc (破面・滅亡篇, Arankaru Metsubō Hen), is directed by Noriyuki Abe, and produced by TV Tokyo, Dentsu and Studio Pierrot. The season concludes the fight between the Soul Reapers and Sōsuke Aizen\\'s arrancar army as the former defends Karakura Town from the latter\\'s invasion, while Ichigo Kurosaki and his group fight the arrancars in Hueco Mundo to rescue Orihime Inoue.\\nThe season aired from April 2010 to 2011. Aniplex collected it in eleven DVD volumes between February 23 and December 14, 2011. The English adaptation of the Bleach anime is licensed by Viz Media, and the season aired on Adult Swim\\'s Toonami programming block from August 2012 to September 2013.\\nThe episodes uses six pieces of theme music: two opening themes and four closing themes. The first opening theme, \"Change\" by Miwa is used for episodes 266 to 291, while the second opening theme, \"Ranbu no Melody\" (乱舞のメロディ, Ranbu no Merodi, \"Melody of the Wild Dance\") by Sid is used from episode 292 to 316. The first ending theme, \"Stay Beautiful\" by Diggy-Mo is used for episodes 266 to 278, the second ending theme, \"echoes\" by Universe is used from episode 279 to 291, the third ending theme, \"Last Moment\" by Spyair is used from episode 292 to 303, and the fourth ending theme \"Song For...\" by Rookiez Is Punk\\'d is used from episode 304 to 316.\\n\\nPage: List of Soul Reapers in Bleach\\nSummary: This is a list of Soul Reapers (死神, Shinigami, literally, \"death gods\") featured in the manga and anime series Bleach, created by Tite Kubo. Soul Reapers are a fictional race of spirits who govern the flow of souls between the human world and the afterlife realm called the Soul Society.\\nThe series tells of how Ichigo Kurosaki becomes a substitute Soul Reaper in Karakura Town in place of Rukia Kuchiki. He assumes her duties to protect souls and put them to peaceful rest, as well as to fight against dangerous, lost souls unable to find rest, called Hollows.\\nAs the series progresses, Rukia is captured by the Soul Society\\'s Soul Reaper military for giving her powers to Ichigo and sentenced to death. Ichigo and his friends journey to the Soul Society to save her and are forced to fight against many of the Court Guard Squads. Sōsuke Aizen, Gin Ichimaru, and Kaname Tōsen—the captains of squads Five, Three, and Nine respectively—eventually defect from the Soul Society at the time of Rukia\\'s rescue, effectively interrupting Ichigo\\'s battles, and enact a plan to gain greater power with the Arrancar. Aizen is brought into focus as the story\\'s main antagonist. However, in the series\\' final arc, the real antagonist is revealed to be Yhwach, the son of the Soul King and father of the Quincy.'),\n",
       "  (AgentAction(tool='wikipedia', tool_input=\"Sōsuke Aizen's Zanpakutō\", log='We need to try another search query to find the name of Aizen\\'s Shikai.\\nAction: wikipedia\\nAction Input: \"Sōsuke Aizen\\'s Zanpakutō\"'),\n",
       "   'Page: Sōsuke Aizen\\nSummary: Sōsuke Aizen (藍染 惣右介, Aizen Sōsuke) is a fictional character in the Japanese manga series Bleach created by Tite Kubo. He is the main antagonist of the first part of the story of Bleach. Serving as captain of the Fifth Division of Soul Reapers when he is introduced, Aizen later betrays the Soul Society in search of immense power to overthrow and defeat the Soul King, before Ichigo Kurosaki and Kisuke Urahara defeat him. His former lieutenant is Momo Hinamori.\\n\\nPage: List of Hollows in Bleach\\nSummary: In the fictional Bleach manga/anime universe, a Hollow (虚（ホロウ）, Horō) is a type of monstrous lost soul who can harm both ghosts and humans. Many of the series\\' antagonists are hollows. Some hollows possess the characteristics called Arrancars (破面（アランカル）, Arankaru, from Spanish arrancar \"to tear off,\" kanji translates as \"broken mask\") that are similar to those of a Soul Reaper (a death-related entity). One of the series\\' main storylines has Sōsuke Aizen (the primary antagonist for the majority of the series) and his arrancar (particularly the ten strongest Espadas) as the force opposing the protagonists.\\nThe creator of the series, Tite Kubo, used many Spanish motifs for the series\\' hollow-related elements. The fictional creatures have been praised by reviewers for the early hollows\\' strong emotional ties to their victims and the \"interesting\" concept of the arrancar. The visual appearance of the characters has also been commented on.\\n\\nPage: List of Soul Reapers in Bleach\\nSummary: This is a list of Soul Reapers (死神, Shinigami, literally, \"death gods\") featured in the manga and anime series Bleach, created by Tite Kubo. Soul Reapers are a fictional race of spirits who govern the flow of souls between the human world and the afterlife realm called the Soul Society.\\nThe series tells of how Ichigo Kurosaki becomes a substitute Soul Reaper in Karakura Town in place of Rukia Kuchiki. He assumes her duties to protect souls and put them to peaceful rest, as well as to fight against dangerous, lost souls unable to find rest, called Hollows.\\nAs the series progresses, Rukia is captured by the Soul Society\\'s Soul Reaper military for giving her powers to Ichigo and sentenced to death. Ichigo and his friends journey to the Soul Society to save her and are forced to fight against many of the Court Guard Squads. Sōsuke Aizen, Gin Ichimaru, and Kaname Tōsen—the captains of squads Five, Three, and Nine respectively—eventually defect from the Soul Society at the time of Rukia\\'s rescue, effectively interrupting Ichigo\\'s battles, and enact a plan to gain greater power with the Arrancar. Aizen is brought into focus as the story\\'s main antagonist. However, in the series\\' final arc, the real antagonist is revealed to be Yhwach, the son of the Soul King and father of the Quincy.'),\n",
       "  (AgentAction(tool='wikipedia', tool_input='Kyōka Suigetsu', log='We need to look for the name of Aizen\\'s Shikai in a different way.\\nAction: wikipedia\\nAction Input: \"Kyōka Suigetsu\"'),\n",
       "   'Page: Sōsuke Aizen\\nSummary: Sōsuke Aizen (藍染 惣右介, Aizen Sōsuke) is a fictional character in the Japanese manga series Bleach created by Tite Kubo. He is the main antagonist of the first part of the story of Bleach. Serving as captain of the Fifth Division of Soul Reapers when he is introduced, Aizen later betrays the Soul Society in search of immense power to overthrow and defeat the Soul King, before Ichigo Kurosaki and Kisuke Urahara defeat him. His former lieutenant is Momo Hinamori.\\n\\nPage: Kiryū (band)\\nSummary: Kiryū (己龍) is a Japanese visual kei metal band founded in 2007 with the concept of \"Japanese terror\" and \"painful nostalgia\". Formed by vocalist Mahiro Kurosaki, guitarists Takemasa Kujō and Mitsuki Sakai, bassist Hiyori Isshiki and drummer Junji Tokai, each member is represented by a color. They have been part of the independent label B.P Records since 2009.\\nMany of their releases have reached high positions on the Oricon Indies chart, and they have also performed at venues such as Nippon Budokan and Tokyo Dome City Hall. They were ranked thirteenth in JRock News top 15 visual kei bands and artists of 2020 and received an honorable mention in the Most Influential Jrockers of 2017.\\nTakemasa Kujō stopped featuring in the band\\'s public appearances at the end of 2021 and one year later Mahiro Kurosaki also paused his activities. Consequently, the band entered an indefinite hiatus in the end of 2023.\\n\\nPage: Tokyo Singing\\nSummary: Tokyo Singing (東京シンギング, Tōkyō Shingingu) is the fifth studio album by Japanese band Wagakki Band. It was released on October 14, 2020 through Universal Sigma in six editions: a two-CD release with an instrumental disc, streaming, a first edition release with 144-page photo book, and three first edition releases with optional DVD or Blu-ray discs. In addition, a fan club exclusive \"Shin Yaeryū-ban\" (真・⼋重流盤) edition was released, featuring Mini Brokker figures of the eight members and a Blu-ray copy of the \"WagakkiBand Japan Tour 2019 React -Shinshō- Final\" concert at Yokosuka Arts Theater. The album features \"Sakura Rising\", a collaboration with Amy Lee of Evanescence.\\nThe album peaked at No. 5 on Oricon\\'s albums chart.'),\n",
       "  (AgentAction(tool='Calculator', tool_input='1+2+3*2', log='We need to calculate the square of 1+2+3*2.\\nAction: Calculator\\nAction Input: 1+2+3*2'),\n",
       "   'Answer: 9')]}"
      ]
     },
     "execution_count": 21,
     "metadata": {},
     "output_type": "execute_result"
    }
   ],
   "source": [
    "# re running it \n",
    "agent.invoke( {\"what is the name of Aizen's Shikai ? Tell me the name and also the square of 1+2+3*2 \"})"
   ]
  },
  {
   "cell_type": "markdown",
   "id": "093c55ed-32d4-4287-b1c7-8ad646fb756f",
   "metadata": {},
   "source": [
    "### This time able to get Aizen's shikai name , but still didn't square the expression"
   ]
  }
 ],
 "metadata": {
  "kernelspec": {
   "display_name": "Python 3 (ipykernel)",
   "language": "python",
   "name": "python3"
  },
  "language_info": {
   "codemirror_mode": {
    "name": "ipython",
    "version": 3
   },
   "file_extension": ".py",
   "mimetype": "text/x-python",
   "name": "python",
   "nbconvert_exporter": "python",
   "pygments_lexer": "ipython3",
   "version": "3.11.3"
  }
 },
 "nbformat": 4,
 "nbformat_minor": 5
}
