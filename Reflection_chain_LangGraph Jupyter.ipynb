{
 "cells": [
  {
   "cell_type": "code",
   "execution_count": 1,
   "id": "4e6b5c99-f039-4763-9b00-074f97049f84",
   "metadata": {},
   "outputs": [
    {
     "data": {
      "text/plain": [
       "False"
      ]
     },
     "execution_count": 1,
     "metadata": {},
     "output_type": "execute_result"
    }
   ],
   "source": [
    "from langchain_core.prompts import ChatPromptTemplate\n",
    "from langchain_core.prompts import MessagesPlaceholder\n",
    "#from langchain_openai import ChatOpenAI\n",
    "import operator\n",
    "from typing import Annotated, TypedDict, Union\n",
    "from langchain_core.agents import AgentAction, AgentFinish\n",
    "from langgraph.prebuilt.tool_executor import ToolExecutor\n",
    "from langchain import hub\n",
    "\n",
    "from langchain_community.tools.tavily_search import TavilySearchResults\n",
    "from langchain_core.prompts import PromptTemplate\n",
    "from langchain_core.tools import tool\n",
    "from langchain_openai.chat_models import ChatOpenAI\n",
    "from langchain.llms import AzureOpenAI\n",
    "from langchain.agents import create_react_agent\n",
    "from typing import List, Sequence\n",
    "import os\n",
    "from langchain_core.messages import BaseMessage, HumanMessage\n",
    "from langgraph.graph import END, MessageGraph\n",
    "from dotenv import load_dotenv\n",
    "load_dotenv()"
   ]
  },
  {
   "cell_type": "code",
   "execution_count": 6,
   "id": "5b6a6cdd-286d-4965-8232-296144092452",
   "metadata": {},
   "outputs": [],
   "source": []
  },
  {
   "cell_type": "code",
   "execution_count": 17,
   "id": "ebce2b3d-4dec-4ac0-aa64-73570712d739",
   "metadata": {},
   "outputs": [],
   "source": [
    "import pandas as pd"
   ]
  },
  {
   "cell_type": "markdown",
   "id": "8bbc44f1-7e49-480c-adf2-dfe8aeb09f3d",
   "metadata": {},
   "source": [
    "# creating the Chains"
   ]
  },
  {
   "cell_type": "code",
   "execution_count": 3,
   "id": "7fa1a8b9-4dd3-4c00-aa64-0be16bfaee65",
   "metadata": {},
   "outputs": [
    {
     "name": "stdout",
     "output_type": "stream",
     "text": [
      "executed this far\n"
     ]
    }
   ],
   "source": [
    "\n",
    "reflection_prompt = ChatPromptTemplate.from_messages(\n",
    "    [\n",
    "        (\n",
    "            \"system\",\n",
    "            \"You are a viral twitter influencer grading a tweet. Generate critique and recommendations for the user's tweet.\"\n",
    "            \"Always provide detailed recommendations, including requests for length, virality, style, etc.\",\n",
    "        ),\n",
    "        MessagesPlaceholder(variable_name=\"messages\"),\n",
    "    ]\n",
    ")\n",
    "\n",
    "generation_prompt = ChatPromptTemplate.from_messages(\n",
    "    [\n",
    "        (\n",
    "            \"system\",\n",
    "            \"You are a twitter techie influencer assistant tasked with writing excellent twitter posts.\"\n",
    "            \" Generate the best twitter post possible for the user's request.\"\n",
    "            \" If the user provides critique, respond with a revised version of your previous attempts.\",\n",
    "        ),\n",
    "        MessagesPlaceholder(variable_name=\"messages\"),\n",
    "    ]\n",
    ")\n",
    "\n",
    "print('executed this far')"
   ]
  },
  {
   "cell_type": "markdown",
   "id": "e7827191-d1a8-4429-b693-e95bd3ac2675",
   "metadata": {},
   "source": [
    "# creating the nodes"
   ]
  },
  {
   "cell_type": "code",
   "execution_count": 7,
   "id": "ddf26004-6ebc-48f1-9a45-a6f25e64a535",
   "metadata": {},
   "outputs": [],
   "source": [
    "llm = ChatOpenAI()\n",
    "#llm = AzureOpenAI(openai_api_version = 'turbo-2024-04-09')\n",
    "generate_chain = generation_prompt | llm\n",
    "reflect_chain = reflection_prompt | llm\n",
    "\n",
    "REFLECT = \"reflect\"\n",
    "GENERATE = \"generate\"\n",
    "\n",
    "\n",
    "def generation_node(state: Sequence[BaseMessage]):\n",
    "    return generate_chain.invoke({\"messages\": state})\n",
    "\n",
    "\n",
    "def reflection_node(messages: Sequence[BaseMessage]) -> List[BaseMessage]:\n",
    "    res = reflect_chain.invoke({\"messages\": messages})\n",
    "    return [HumanMessage(content=res.content)]\n",
    "\n",
    "\n"
   ]
  },
  {
   "cell_type": "markdown",
   "id": "29e1fcdf-0bec-4984-804b-a034424c1633",
   "metadata": {},
   "source": [
    "# Build the Graph"
   ]
  },
  {
   "cell_type": "code",
   "execution_count": 9,
   "id": "08c8215b-9789-477a-8078-925da897cae6",
   "metadata": {},
   "outputs": [
    {
     "name": "stdout",
     "output_type": "stream",
     "text": [
      "%%{init: {'flowchart': {'curve': 'linear'}}}%%\n",
      "graph TD;\n",
      "\t__start__([<p>__start__</p>]):::first\n",
      "\tgenerate(generate)\n",
      "\treflect(reflect)\n",
      "\t__end__([<p>__end__</p>]):::last\n",
      "\t__start__ --> generate;\n",
      "\treflect --> generate;\n",
      "\tgenerate -.-> reflect;\n",
      "\tgenerate -.-> __end__;\n",
      "\tclassDef default fill:#f2f0ff,line-height:1.2\n",
      "\tclassDef first fill-opacity:0\n",
      "\tclassDef last fill:#bfb6fc\n",
      "\n"
     ]
    }
   ],
   "source": [
    "builder = MessageGraph()\n",
    "builder.add_node(GENERATE, generation_node)\n",
    "builder.add_node(REFLECT, reflection_node)\n",
    "builder.set_entry_point(GENERATE)\n",
    "\n",
    "def should_continue(state: List[BaseMessage]):\n",
    "    if len(state) > 6: # continue \n",
    "        return END\n",
    "    return REFLECT\n",
    "\n",
    "\n",
    "builder.add_conditional_edges(GENERATE, should_continue)\n",
    "builder.add_edge(REFLECT, GENERATE)\n",
    "\n",
    "graph = builder.compile()\n",
    "print(graph.get_graph().draw_mermaid())\n",
    "\n",
    "\n"
   ]
  },
  {
   "cell_type": "code",
   "execution_count": 10,
   "id": "d697990e-3e2f-4c1e-a071-b95af76a1dad",
   "metadata": {},
   "outputs": [
    {
     "name": "stdout",
     "output_type": "stream",
     "text": [
      "          +-----------+            \n",
      "          | __start__ |            \n",
      "          +-----------+            \n",
      "                *                  \n",
      "                *                  \n",
      "                *                  \n",
      "          +----------+             \n",
      "          | generate |             \n",
      "          +----------+             \n",
      "          ...        ...           \n",
      "         .              .          \n",
      "       ..                ..        \n",
      "+---------+           +---------+  \n",
      "| reflect |           | __end__ |  \n",
      "+---------+           +---------+  \n"
     ]
    }
   ],
   "source": [
    "graph.get_graph().print_ascii()"
   ]
  },
  {
   "cell_type": "code",
   "execution_count": 11,
   "id": "4d4bf22c-f3fc-4883-a022-865bc787f31e",
   "metadata": {},
   "outputs": [
    {
     "name": "stdout",
     "output_type": "stream",
     "text": [
      "Hello LangGraph\n",
      "[HumanMessage(content='Make this tweet better:\"\\n                                    @LangChainAI\\n            — newly Tool Calling feature is seriously underrated.\\n\\n            After a long wait, it\\'s  here- making the implementation of agents across different models with function calling - super easy.\\n\\n            Made a video covering their newest blog post\\n\\n                                  ', additional_kwargs={}, response_metadata={}, id='ce72890d-c737-4f2e-9645-cdedaa9da344'), AIMessage(content='\"🚀 Excited to share that @LangChainAI has rolled out a game-changing Tool Calling feature! 🛠️✨ Say goodbye to complex agent implementation across models - it\\'s now a breeze. Check out my video unpacking their latest blog post! #AI #Tech #Innovation\"', additional_kwargs={'refusal': None}, response_metadata={'token_usage': {'completion_tokens': 63, 'prompt_tokens': 113, 'total_tokens': 176, 'completion_tokens_details': {'accepted_prediction_tokens': 0, 'audio_tokens': 0, 'reasoning_tokens': 0, 'rejected_prediction_tokens': 0}, 'prompt_tokens_details': {'audio_tokens': 0, 'cached_tokens': 0}}, 'model_name': 'gpt-3.5-turbo-0125', 'system_fingerprint': None, 'finish_reason': 'stop', 'logprobs': None}, id='run-49ce3c0b-55aa-4d78-b707-c8a4dfa299c2-0', usage_metadata={'input_tokens': 113, 'output_tokens': 63, 'total_tokens': 176, 'input_token_details': {'audio': 0, 'cache_read': 0}, 'output_token_details': {'audio': 0, 'reasoning': 0}}), HumanMessage(content='This revised tweet captures attention with emojis, highlights the key points concisely, and includes relevant hashtags to increase visibility. To enhance it further, consider adding more specific details about the benefits of the Tool Calling feature and why it stands out. Additionally, you could mention a unique insight from the blog post or a personal opinion to make the tweet more engaging and relatable. Lastly, for optimal engagement, keep the tweet length around 240 characters, utilize visuals like images or GIFs to accompany the text, and consider posting at optimal times for your audience to boost virality.', additional_kwargs={}, response_metadata={}, id='1921806a-f77b-4eba-97a4-ab49bec689b2'), AIMessage(content='\"🌟 Exciting news from @LangChainAI! Their Tool Calling feature is a game-changer, simplifying agent implementation across models like never before. Dive into my video where I unpack the latest blog post, revealing how this innovation is reshaping the AI landscape. Don\\'t miss out on this tech revolution! #AI #Innovation #LangChainAI #TechTrends\"', additional_kwargs={'refusal': None}, response_metadata={'token_usage': {'completion_tokens': 79, 'prompt_tokens': 299, 'total_tokens': 378, 'completion_tokens_details': {'accepted_prediction_tokens': 0, 'audio_tokens': 0, 'reasoning_tokens': 0, 'rejected_prediction_tokens': 0}, 'prompt_tokens_details': {'audio_tokens': 0, 'cached_tokens': 0}}, 'model_name': 'gpt-3.5-turbo-0125', 'system_fingerprint': None, 'finish_reason': 'stop', 'logprobs': None}, id='run-5cbc0e56-89a3-4670-a4b0-2b347e1d1379-0', usage_metadata={'input_tokens': 299, 'output_tokens': 79, 'total_tokens': 378, 'input_token_details': {'audio': 0, 'cache_read': 0}, 'output_token_details': {'audio': 0, 'reasoning': 0}}), HumanMessage(content='This revised tweet effectively captures attention with engaging language, highlights the key benefits of the Tool Calling feature, and encourages followers to watch the video for more insights. To further enhance the tweet, consider adding a call-to-action prompting followers to share their thoughts or experiences with similar features. Additionally, incorporating a teaser or a surprising fact from the blog post can create anticipation and prompt curiosity. Including a visual element like a screenshot or a snippet from the video can also increase visual appeal and engagement. Lastly, ensure the tweet is posted during peak engagement times to reach a wider audience and maximize virality.', additional_kwargs={}, response_metadata={}, id='cc8ef102-1c2f-4a4a-9411-ecf413ff867c'), AIMessage(content='\"🚀 Exciting update! @LangChainAI\\'s Tool Calling feature is transforming AI implementation, making agent integration a breeze. Watch my video for an exclusive look at how this innovation is reshaping the tech scene. What are your thoughts on simplifying AI models? Share below! #AI #LangChainAI #Innovation #TechRevolution 🌟\"', additional_kwargs={'refusal': None}, response_metadata={'token_usage': {'completion_tokens': 75, 'prompt_tokens': 503, 'total_tokens': 578, 'completion_tokens_details': {'accepted_prediction_tokens': 0, 'audio_tokens': 0, 'reasoning_tokens': 0, 'rejected_prediction_tokens': 0}, 'prompt_tokens_details': {'audio_tokens': 0, 'cached_tokens': 0}}, 'model_name': 'gpt-3.5-turbo-0125', 'system_fingerprint': None, 'finish_reason': 'stop', 'logprobs': None}, id='run-3e409956-330b-470a-a9de-a699d9dfe851-0', usage_metadata={'input_tokens': 503, 'output_tokens': 75, 'total_tokens': 578, 'input_token_details': {'audio': 0, 'cache_read': 0}, 'output_token_details': {'audio': 0, 'reasoning': 0}}), HumanMessage(content='This revised tweet effectively captures attention with engaging language, highlights the key benefits of the Tool Calling feature, and encourages followers to watch the video for more insights. To further enhance the tweet, consider adding a call-to-action prompting followers to share their thoughts or experiences with similar features. Additionally, incorporating a teaser or a surprising fact from the blog post can create anticipation and prompt curiosity. Including a visual element like a screenshot or a snippet from the video can also increase visual appeal and engagement. Lastly, ensure the tweet is posted during peak engagement times to reach a wider audience and maximize virality.', additional_kwargs={}, response_metadata={}, id='31ff89f2-31fa-4719-ab14-2f2cecd4e938'), AIMessage(content='\"🌟 Dive into the future of AI with @LangChainAI\\'s groundbreaking Tool Calling feature! Simplifying agent integration like never before. Watch my video for an exclusive peek at how this innovation is reshaping the tech landscape. Share your thoughts on revolutionizing AI models! #AI #LangChainAI #Innovation #TechRevolution 🚀\"', additional_kwargs={'refusal': None}, response_metadata={'token_usage': {'completion_tokens': 73, 'prompt_tokens': 703, 'total_tokens': 776, 'completion_tokens_details': {'accepted_prediction_tokens': 0, 'audio_tokens': 0, 'reasoning_tokens': 0, 'rejected_prediction_tokens': 0}, 'prompt_tokens_details': {'audio_tokens': 0, 'cached_tokens': 0}}, 'model_name': 'gpt-3.5-turbo-0125', 'system_fingerprint': None, 'finish_reason': 'stop', 'logprobs': None}, id='run-6a8bbc2c-96e1-447f-ba7f-b929046d869d-0', usage_metadata={'input_tokens': 703, 'output_tokens': 73, 'total_tokens': 776, 'input_token_details': {'audio': 0, 'cache_read': 0}, 'output_token_details': {'audio': 0, 'reasoning': 0}})]\n"
     ]
    }
   ],
   "source": [
    "if __name__ == \"__main__\":\n",
    "    print(\"Hello LangGraph\")\n",
    "    inputs = HumanMessage(content=\"\"\"Make this tweet better:\"\n",
    "                                    @LangChainAI\n",
    "            — newly Tool Calling feature is seriously underrated.\n",
    "\n",
    "            After a long wait, it's  here- making the implementation of agents across different models with function calling - super easy.\n",
    "\n",
    "            Made a video covering their newest blog post\n",
    "\n",
    "                                  \"\"\")\n",
    "    response = graph.invoke(inputs)\n",
    "print(response)"
   ]
  },
  {
   "cell_type": "code",
   "execution_count": 12,
   "id": "90aae412-2bcb-493a-a171-35af06e6100d",
   "metadata": {},
   "outputs": [
    {
     "data": {
      "text/plain": [
       "HumanMessage(content='Make this tweet better:\"\\n                                    @LangChainAI\\n            — newly Tool Calling feature is seriously underrated.\\n\\n            After a long wait, it\\'s  here- making the implementation of agents across different models with function calling - super easy.\\n\\n            Made a video covering their newest blog post\\n\\n                                  ', additional_kwargs={}, response_metadata={}, id='ce72890d-c737-4f2e-9645-cdedaa9da344')"
      ]
     },
     "execution_count": 12,
     "metadata": {},
     "output_type": "execute_result"
    }
   ],
   "source": [
    "response[0]"
   ]
  },
  {
   "cell_type": "code",
   "execution_count": 13,
   "id": "8c639368-d760-4c38-a8f3-d4dd36f9d27c",
   "metadata": {},
   "outputs": [
    {
     "data": {
      "text/plain": [
       "AIMessage(content='\"🚀 Excited to share that @LangChainAI has rolled out a game-changing Tool Calling feature! 🛠️✨ Say goodbye to complex agent implementation across models - it\\'s now a breeze. Check out my video unpacking their latest blog post! #AI #Tech #Innovation\"', additional_kwargs={'refusal': None}, response_metadata={'token_usage': {'completion_tokens': 63, 'prompt_tokens': 113, 'total_tokens': 176, 'completion_tokens_details': {'accepted_prediction_tokens': 0, 'audio_tokens': 0, 'reasoning_tokens': 0, 'rejected_prediction_tokens': 0}, 'prompt_tokens_details': {'audio_tokens': 0, 'cached_tokens': 0}}, 'model_name': 'gpt-3.5-turbo-0125', 'system_fingerprint': None, 'finish_reason': 'stop', 'logprobs': None}, id='run-49ce3c0b-55aa-4d78-b707-c8a4dfa299c2-0', usage_metadata={'input_tokens': 113, 'output_tokens': 63, 'total_tokens': 176, 'input_token_details': {'audio': 0, 'cache_read': 0}, 'output_token_details': {'audio': 0, 'reasoning': 0}})"
      ]
     },
     "execution_count": 13,
     "metadata": {},
     "output_type": "execute_result"
    }
   ],
   "source": [
    "response[1]"
   ]
  },
  {
   "cell_type": "code",
   "execution_count": 15,
   "id": "08a874e6-70fb-46ff-ae3e-52dd4f4b3b02",
   "metadata": {},
   "outputs": [
    {
     "data": {
      "text/plain": [
       "HumanMessage(content='This revised tweet effectively captures attention with engaging language, highlights the key benefits of the Tool Calling feature, and encourages followers to watch the video for more insights. To further enhance the tweet, consider adding a call-to-action prompting followers to share their thoughts or experiences with similar features. Additionally, incorporating a teaser or a surprising fact from the blog post can create anticipation and prompt curiosity. Including a visual element like a screenshot or a snippet from the video can also increase visual appeal and engagement. Lastly, ensure the tweet is posted during peak engagement times to reach a wider audience and maximize virality.', additional_kwargs={}, response_metadata={}, id='31ff89f2-31fa-4719-ab14-2f2cecd4e938')"
      ]
     },
     "execution_count": 15,
     "metadata": {},
     "output_type": "execute_result"
    }
   ],
   "source": [
    "response[-2]"
   ]
  },
  {
   "cell_type": "code",
   "execution_count": 14,
   "id": "4c788be7-5174-4e49-a24d-8438eea5a707",
   "metadata": {},
   "outputs": [
    {
     "data": {
      "text/plain": [
       "AIMessage(content='\"🌟 Dive into the future of AI with @LangChainAI\\'s groundbreaking Tool Calling feature! Simplifying agent integration like never before. Watch my video for an exclusive peek at how this innovation is reshaping the tech landscape. Share your thoughts on revolutionizing AI models! #AI #LangChainAI #Innovation #TechRevolution 🚀\"', additional_kwargs={'refusal': None}, response_metadata={'token_usage': {'completion_tokens': 73, 'prompt_tokens': 703, 'total_tokens': 776, 'completion_tokens_details': {'accepted_prediction_tokens': 0, 'audio_tokens': 0, 'reasoning_tokens': 0, 'rejected_prediction_tokens': 0}, 'prompt_tokens_details': {'audio_tokens': 0, 'cached_tokens': 0}}, 'model_name': 'gpt-3.5-turbo-0125', 'system_fingerprint': None, 'finish_reason': 'stop', 'logprobs': None}, id='run-6a8bbc2c-96e1-447f-ba7f-b929046d869d-0', usage_metadata={'input_tokens': 703, 'output_tokens': 73, 'total_tokens': 776, 'input_token_details': {'audio': 0, 'cache_read': 0}, 'output_token_details': {'audio': 0, 'reasoning': 0}})"
      ]
     },
     "execution_count": 14,
     "metadata": {},
     "output_type": "execute_result"
    }
   ],
   "source": [
    "response[-1]"
   ]
  },
  {
   "cell_type": "code",
   "execution_count": 26,
   "id": "2fcbd2e5-ddec-404c-b048-15d6e918d6f5",
   "metadata": {},
   "outputs": [
    {
     "name": "stdout",
     "output_type": "stream",
     "text": [
      "('content', 'Make this tweet better:\"\\n                                    @LangChainAI\\n            — newly Tool Calling feature is seriously underrated.\\n\\n            After a long wait, it\\'s  here- making the implementation of agents across different models with function calling - super easy.\\n\\n            Made a video covering their newest blog post\\n\\n                                  ')\n",
      "----------------------------------------------> \n",
      "('content', '\"🚀 Excited to share that @LangChainAI has rolled out a game-changing Tool Calling feature! 🛠️✨ Say goodbye to complex agent implementation across models - it\\'s now a breeze. Check out my video unpacking their latest blog post! #AI #Tech #Innovation\"')\n",
      "----------------------------------------------> \n",
      "('content', 'This revised tweet captures attention with emojis, highlights the key points concisely, and includes relevant hashtags to increase visibility. To enhance it further, consider adding more specific details about the benefits of the Tool Calling feature and why it stands out. Additionally, you could mention a unique insight from the blog post or a personal opinion to make the tweet more engaging and relatable. Lastly, for optimal engagement, keep the tweet length around 240 characters, utilize visuals like images or GIFs to accompany the text, and consider posting at optimal times for your audience to boost virality.')\n",
      "----------------------------------------------> \n",
      "('content', '\"🌟 Exciting news from @LangChainAI! Their Tool Calling feature is a game-changer, simplifying agent implementation across models like never before. Dive into my video where I unpack the latest blog post, revealing how this innovation is reshaping the AI landscape. Don\\'t miss out on this tech revolution! #AI #Innovation #LangChainAI #TechTrends\"')\n",
      "----------------------------------------------> \n",
      "('content', 'This revised tweet effectively captures attention with engaging language, highlights the key benefits of the Tool Calling feature, and encourages followers to watch the video for more insights. To further enhance the tweet, consider adding a call-to-action prompting followers to share their thoughts or experiences with similar features. Additionally, incorporating a teaser or a surprising fact from the blog post can create anticipation and prompt curiosity. Including a visual element like a screenshot or a snippet from the video can also increase visual appeal and engagement. Lastly, ensure the tweet is posted during peak engagement times to reach a wider audience and maximize virality.')\n",
      "----------------------------------------------> \n",
      "('content', '\"🚀 Exciting update! @LangChainAI\\'s Tool Calling feature is transforming AI implementation, making agent integration a breeze. Watch my video for an exclusive look at how this innovation is reshaping the tech scene. What are your thoughts on simplifying AI models? Share below! #AI #LangChainAI #Innovation #TechRevolution 🌟\"')\n",
      "----------------------------------------------> \n",
      "('content', 'This revised tweet effectively captures attention with engaging language, highlights the key benefits of the Tool Calling feature, and encourages followers to watch the video for more insights. To further enhance the tweet, consider adding a call-to-action prompting followers to share their thoughts or experiences with similar features. Additionally, incorporating a teaser or a surprising fact from the blog post can create anticipation and prompt curiosity. Including a visual element like a screenshot or a snippet from the video can also increase visual appeal and engagement. Lastly, ensure the tweet is posted during peak engagement times to reach a wider audience and maximize virality.')\n",
      "----------------------------------------------> \n",
      "('content', '\"🌟 Dive into the future of AI with @LangChainAI\\'s groundbreaking Tool Calling feature! Simplifying agent integration like never before. Watch my video for an exclusive peek at how this innovation is reshaping the tech landscape. Share your thoughts on revolutionizing AI models! #AI #LangChainAI #Innovation #TechRevolution 🚀\"')\n",
      "----------------------------------------------> \n"
     ]
    }
   ],
   "source": [
    "df = pd.DataFrame(response)\n",
    "pd.options.display.max_colwidth = 100\n",
    "for value in df[0].values :\n",
    "    print( value)\n",
    "    print('----------------------------------------------> ')"
   ]
  },
  {
   "cell_type": "code",
   "execution_count": null,
   "id": "dc25757b-b0d5-41b7-8cad-2d40f8bd7d88",
   "metadata": {},
   "outputs": [],
   "source": []
  },
  {
   "cell_type": "code",
   "execution_count": null,
   "id": "eaf0b3a0-3fd4-437d-8c93-181b2ec712ea",
   "metadata": {},
   "outputs": [],
   "source": []
  }
 ],
 "metadata": {
  "kernelspec": {
   "display_name": "Python 3 (ipykernel)",
   "language": "python",
   "name": "python3"
  },
  "language_info": {
   "codemirror_mode": {
    "name": "ipython",
    "version": 3
   },
   "file_extension": ".py",
   "mimetype": "text/x-python",
   "name": "python",
   "nbconvert_exporter": "python",
   "pygments_lexer": "ipython3",
   "version": "3.11.3"
  }
 },
 "nbformat": 4,
 "nbformat_minor": 5
}
